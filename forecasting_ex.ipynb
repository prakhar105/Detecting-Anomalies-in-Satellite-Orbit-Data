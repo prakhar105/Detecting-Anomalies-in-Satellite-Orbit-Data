{
 "cells": [
  {
   "cell_type": "markdown",
   "id": "4ee5fe50392c6001",
   "metadata": {},
   "source": [
    "# Minimal example of forecasting using XGBoost\n",
    "\n",
    "Note that you are expected to do substantially more than what is here in yor project.\n",
    "This is just a minimal example to get you started."
   ]
  },
  {
   "cell_type": "code",
   "execution_count": 32,
   "id": "22b226834f7de11a",
   "metadata": {},
   "outputs": [],
   "source": [
    "import numpy as np\n",
    "import pandas as pd\n",
    "from xgboost import XGBRegressor\n",
    "import seaborn as sns"
   ]
  },
  {
   "cell_type": "code",
   "execution_count": 33,
   "id": "3ec599278f8df2f4",
   "metadata": {
    "ExecuteTime": {
     "end_time": "2024-07-01T07:05:15.052706Z",
     "start_time": "2024-07-01T07:05:15.049697Z"
    }
   },
   "outputs": [],
   "source": [
    "NUM_LAG_FEATURES = 3"
   ]
  },
  {
   "cell_type": "markdown",
   "id": "12b45a0c4e22cbf3",
   "metadata": {},
   "source": [
    "Load the data"
   ]
  },
  {
   "cell_type": "code",
   "execution_count": 34,
   "id": "a1ceb528d404164",
   "metadata": {
    "ExecuteTime": {
     "end_time": "2024-07-01T07:08:14.726442Z",
     "start_time": "2024-07-01T07:08:14.709854Z"
    }
   },
   "outputs": [],
   "source": [
    "df_tles = pd.read_csv('Sentinel-3A.csv', index_col=0, parse_dates=True)"
   ]
  },
  {
   "cell_type": "code",
   "execution_count": 35,
   "id": "de464c9385757436",
   "metadata": {
    "ExecuteTime": {
     "end_time": "2024-07-01T07:08:15.564735Z",
     "start_time": "2024-07-01T07:08:15.555525Z"
    }
   },
   "outputs": [
    {
     "data": {
      "application/vnd.microsoft.datawrangler.viewer.v0+json": {
       "columns": [
        {
         "name": "index",
         "rawType": "datetime64[ns]",
         "type": "datetime"
        },
        {
         "name": "eccentricity",
         "rawType": "float64",
         "type": "float"
        },
        {
         "name": "argument of perigee",
         "rawType": "float64",
         "type": "float"
        },
        {
         "name": "inclination",
         "rawType": "float64",
         "type": "float"
        },
        {
         "name": "mean anomaly",
         "rawType": "float64",
         "type": "float"
        },
        {
         "name": "Brouwer mean motion",
         "rawType": "float64",
         "type": "float"
        },
        {
         "name": "right ascension",
         "rawType": "float64",
         "type": "float"
        }
       ],
       "conversionMethod": "pd.DataFrame",
       "ref": "a93239ea-e5e9-4559-a581-c9e6966099ee",
       "rows": [
        [
         "2016-03-04 15:21:16.747488",
         "0.0001086",
         "1.3148036494171322",
         "1.721208801731768",
         "-1.290056625953106",
         "0.0622901374821452",
         "2.317568608516458"
        ],
        [
         "2016-03-05 03:07:49.774079",
         "0.0001163",
         "1.2195627774650537",
         "1.721205311073264",
         "-1.2173287560225017",
         "0.0622901245851963",
         "2.326014256766859"
        ],
        [
         "2016-03-06 02:41:39.264000",
         "0.0001109",
         "1.1729921570340889",
         "1.721208801731768",
         "-1.1707947875058269",
         "0.0622900849181995",
         "2.342891590633644"
        ],
        [
         "2016-03-07 05:37:27.298272",
         "0.0001074",
         "1.116069988809546",
         "1.72121054706102",
         "-1.113839458025498",
         "0.0622900715732621",
         "2.3621844601851896"
        ],
        [
         "2016-03-08 03:30:17.538911",
         "0.0001066",
         "1.1061303387194383",
         "1.72121054706102",
         "-1.1038806093136175",
         "0.0622900705682888",
         "2.377852280880343"
        ],
        [
         "2016-03-09 03:04:06.551904",
         "0.0001371",
         "1.4157953812545323",
         "1.7212506896338158",
         "-1.413292579107173",
         "0.0622901622132918",
         "2.3947802292954354"
        ],
        [
         "2016-03-10 02:37:55.725600",
         "0.0001371",
         "1.3657864621971387",
         "1.7212506896338158",
         "-1.3634581929749787",
         "0.0622901622132918",
         "2.411655817832969"
        ],
        [
         "2016-03-11 02:11:44.990879",
         "0.0001592",
         "0.8208143845789173",
         "1.7212402176583037",
         "-0.8184407367962034",
         "0.0622901912484303",
         "2.428533151699754"
        ],
        [
         "2016-03-12 01:45:34.054847",
         "0.0002441",
         "0.461390005069465",
         "1.721229745682792",
         "-0.4589831960309656",
         "0.0622902393794011",
         "2.4454069949080357"
        ],
        [
         "2016-03-13 01:19:23.002175",
         "0.0002412",
         "0.4120024232257814",
         "1.7212262550242878",
         "-0.4097492031614553",
         "0.06229025505822",
         "2.46228432877482"
        ],
        [
         "2016-03-14 02:34:11.327519",
         "0.0002517",
         "0.3470377778080485",
         "1.721229745682792",
         "-0.3448072470239989",
         "0.0622902665573263",
         "2.480364194496229"
        ],
        [
         "2016-03-15 02:08:00.378528",
         "0.0002392",
         "0.3000098811130612",
         "1.7212192737072798",
         "-0.2976275066840887",
         "0.0622903002232813",
         "2.4972362923752587"
        ],
        [
         "2016-03-16 01:41:49.038144",
         "0.0001871",
         "0.3474008062924633",
         "1.721212292390272",
         "-0.3452139087397148",
         "0.0622903336334398",
         "2.514108390254288"
        ],
        [
         "2016-03-17 01:15:37.568159",
         "8.99e-05",
         "1.2949034052858928",
         "1.721208801731768",
         "-1.292671129172593",
         "0.0622903898589246",
         "2.530978742804065"
        ],
        [
         "2016-03-18 02:30:25.763040",
         "9.98e-05",
         "1.367229849488538",
         "1.721208801731768",
         "-1.364906816254134",
         "0.0622904079046831",
         "2.549058608525474"
        ],
        [
         "2016-03-19 02:04:14.645568",
         "0.0001124",
         "1.5116698077250847",
         "1.721214037719524",
         "-1.5093746997587123",
         "0.0622904164142626",
         "2.565937687721512"
        ],
        [
         "2016-03-20 01:38:03.597216",
         "0.0001171",
         "1.5225990595010732",
         "1.7212157830487758",
         "-1.5202969702176938",
         "0.0622904203285853",
         "2.582820257576053"
        ],
        [
         "2016-03-21 02:52:51.764448",
         "0.0001102",
         "1.4525310713505089",
         "1.721214037719524",
         "-1.450223746079371",
         "0.0622904269445077",
         "2.6009228125777377"
        ],
        [
         "2016-03-22 02:26:40.729055",
         "0.0001116",
         "1.3658335860869426",
         "1.721221019036532",
         "-1.3635576767423414",
         "0.0622904257793514",
         "2.617812363749287"
        ],
        [
         "2016-03-23 00:19:30.567071",
         "0.0001109",
         "1.3575519987862297",
         "1.721231491012044",
         "-1.3552743441123756",
         "0.0622904184605669",
         "2.6334889110907"
        ],
        [
         "2016-03-24 04:56:17.314080",
         "0.000115",
         "1.4502970499079562",
         "1.721243708316808",
         "-1.448054301819143",
         "0.0622904008991889",
         "2.653993039143129"
        ],
        [
         "2016-03-25 01:08:08.025503",
         "0.0001132",
         "1.4630588973985386",
         "1.7212524349630678",
         "-1.4608213852974812",
         "0.0622903850782115",
         "2.668470545288422"
        ],
        [
         "2016-03-26 05:44:54.911616",
         "0.0001144",
         "1.4509882002917458",
         "1.7212611616093276",
         "-1.448710545617894",
         "0.0622903646693775",
         "2.688974673340852"
        ],
        [
         "2016-03-27 05:18:44.117280",
         "0.0001084",
         "1.2272300088690649",
         "1.721266397597084",
         "-1.2249785341339932",
         "0.0622903491469297",
         "2.7058572431953927"
        ],
        [
         "2016-03-28 04:52:33.309984",
         "0.0001038",
         "1.2094869916932904",
         "1.7212716335848397",
         "-1.207216318336446",
         "0.0622903365083048",
         "2.72274504903769"
        ],
        [
         "2016-03-29 01:04:23.997216",
         "0.0001032",
         "1.1636005403291074",
         "1.7212768695725955",
         "-1.161366518886556",
         "0.0622903269283065",
         "2.737217319195227"
        ],
        [
         "2016-03-30 05:41:10.822848",
         "9.97e-05",
         "1.2504551052253532",
         "1.7212821055603518",
         "-1.2481966491732726",
         "0.0622903179162923",
         "2.757723192576908"
        ],
        [
         "2016-03-31 05:14:59.949024",
         "9.86e-05",
         "1.3173308861740205",
         "1.7212855962188556",
         "-1.31505497682942",
         "0.0622903139473503",
         "2.7746144890777096"
        ],
        [
         "2016-04-01 04:48:49.033728",
         "0.0001021",
         "1.4139348602719062",
         "1.7212943228651156",
         "-1.4116502242810451",
         "0.0622903142494659",
         "2.7915162575540227"
        ],
        [
         "2016-04-02 04:22:38.088191",
         "9.93e-05",
         "1.4280545739205404",
         "1.7212978135236194",
         "-1.425780409905192",
         "0.0622903196747203",
         "2.80839533675006"
        ],
        [
         "2016-04-03 05:37:26.327135",
         "9.65e-05",
         "1.4833361326482088",
         "1.7212960681943676",
         "-1.4810637139621132",
         "0.0622903308786089",
         "2.826483929117729"
        ],
        [
         "2016-04-04 01:49:16.919328",
         "9.74e-05",
         "1.5373121850953857",
         "1.7212925775358636",
         "-1.5350310397630285",
         "0.0622903386926352",
         "2.840956199275266"
        ],
        [
         "2016-04-05 04:45:04.374719",
         "9.68e-05",
         "1.5227020339269408",
         "1.7212943228651156",
         "-1.520445323204112",
         "0.0622903443983165",
         "2.8602612861315757"
        ],
        [
         "2016-04-06 04:18:53.427455",
         "9.54e-05",
         "1.5129473887375446",
         "1.7212943228651156",
         "-1.5106906780147158",
         "0.0622903481559917",
         "2.877143855986116"
        ],
        [
         "2016-04-07 05:33:41.682816",
         "9.43e-05",
         "1.532880794124572",
         "1.7212925775358636",
         "-1.5306101207677267",
         "0.0622903531553398",
         "2.895237684341541"
        ],
        [
         "2016-04-08 05:07:30.637920",
         "0.0001013",
         "1.726373230988419",
         "1.7212908322066116",
         "-1.7240990669730696",
         "0.0622903616939951",
         "2.912144688805611"
        ],
        [
         "2016-04-09 04:41:19.670784",
         "9.79e-05",
         "1.6913444729008928",
         "1.7212890868773598",
         "-1.6890668182270412",
         "0.062290366256375",
         "2.92903423997716"
        ],
        [
         "2016-04-10 04:15:08.680320",
         "9.33e-05",
         "1.663661805635011",
         "1.7212873415481078",
         "-1.6614016042536788",
         "0.0622903702507199",
         "2.945918555160953"
        ],
        [
         "2016-04-11 03:48:57.686399",
         "9.15e-05",
         "1.6089963481332965",
         "1.7212821055603518",
         "-1.6067431280689712",
         "0.0622903755923805",
         "2.96279763435699"
        ],
        [
         "2016-04-12 03:22:46.677791",
         "8.81e-05",
         "1.585724127887204",
         "1.7212821055603518",
         "-1.58347265315213",
         "0.062290381403658",
         "2.979683694870035"
        ],
        [
         "2016-04-13 04:37:34.883040",
         "8.61e-05",
         "1.5631378220371457",
         "1.7212803602310998",
         "-1.5608880926313242",
         "0.0622903867525462",
         "2.9977705419084524"
        ],
        [
         "2016-04-14 00:49:25.430303",
         "8.9e-05",
         "1.5809122551394557",
         "1.7212803602310998",
         "-1.5786503084288706",
         "0.0622903921269454",
         "3.0122410667367374"
        ],
        [
         "2016-04-15 03:45:12.734496",
         "9.19e-05",
         "1.609149937107472",
         "1.7212768695725955",
         "-1.6068618104581072",
         "0.0622904080680767",
         "3.031540917605291"
        ],
        [
         "2016-04-16 03:19:01.563456",
         "9.1e-05",
         "1.6289646601053638",
         "1.7212768695725955",
         "-1.626685260102259",
         "0.0622904242785685",
         "3.04843046877684"
        ],
        [
         "2016-04-17 04:33:49.580351",
         "0.0001043",
         "1.7641247027090563",
         "1.7212716335848397",
         "-1.7618173774379209",
         "0.0622904419421091",
         "3.0665138251567527"
        ],
        [
         "2016-04-18 04:07:38.361792",
         "0.0001166",
         "1.8432945829087712",
         "1.7212716335848397",
         "-1.8409837669791305",
         "0.0622904564486931",
         "3.083398140340546"
        ],
        [
         "2016-04-19 02:00:27.940608",
         "0.0001357",
         "1.990497397351225",
         "1.7212716335848397",
         "-1.988141202861032",
         "0.0622904711301706",
         "3.0990746876819597"
        ],
        [
         "2016-04-20 04:56:15.082368",
         "0.0001058",
         "1.7755758079313912",
         "1.7212768695725955",
         "-1.7733173518793102",
         "0.062290490737416",
         "3.1183850105260245"
        ],
        [
         "2016-04-21 01:08:05.578655",
         "9.03e-05",
         "1.7047608188609733",
         "1.7212873415481078",
         "-1.70257043064972",
         "0.0622904869575563",
         "3.1328729886468296"
        ],
        [
         "2016-04-22 04:03:53.126496",
         "8.25e-05",
         "1.5305944128044593",
         "1.7213013041821237",
         "-1.528395297946945",
         "0.0622904695087391",
         "3.152186802149399"
        ]
       ],
       "shape": {
        "columns": 6,
        "rows": 2385
       }
      },
      "text/html": [
       "<div>\n",
       "<style scoped>\n",
       "    .dataframe tbody tr th:only-of-type {\n",
       "        vertical-align: middle;\n",
       "    }\n",
       "\n",
       "    .dataframe tbody tr th {\n",
       "        vertical-align: top;\n",
       "    }\n",
       "\n",
       "    .dataframe thead th {\n",
       "        text-align: right;\n",
       "    }\n",
       "</style>\n",
       "<table border=\"1\" class=\"dataframe\">\n",
       "  <thead>\n",
       "    <tr style=\"text-align: right;\">\n",
       "      <th></th>\n",
       "      <th>eccentricity</th>\n",
       "      <th>argument of perigee</th>\n",
       "      <th>inclination</th>\n",
       "      <th>mean anomaly</th>\n",
       "      <th>Brouwer mean motion</th>\n",
       "      <th>right ascension</th>\n",
       "    </tr>\n",
       "  </thead>\n",
       "  <tbody>\n",
       "    <tr>\n",
       "      <th>2016-03-04 15:21:16.747488</th>\n",
       "      <td>0.000109</td>\n",
       "      <td>1.314804</td>\n",
       "      <td>1.721209</td>\n",
       "      <td>-1.290057</td>\n",
       "      <td>0.06229</td>\n",
       "      <td>2.317569</td>\n",
       "    </tr>\n",
       "    <tr>\n",
       "      <th>2016-03-05 03:07:49.774079</th>\n",
       "      <td>0.000116</td>\n",
       "      <td>1.219563</td>\n",
       "      <td>1.721205</td>\n",
       "      <td>-1.217329</td>\n",
       "      <td>0.06229</td>\n",
       "      <td>2.326014</td>\n",
       "    </tr>\n",
       "    <tr>\n",
       "      <th>2016-03-06 02:41:39.264000</th>\n",
       "      <td>0.000111</td>\n",
       "      <td>1.172992</td>\n",
       "      <td>1.721209</td>\n",
       "      <td>-1.170795</td>\n",
       "      <td>0.06229</td>\n",
       "      <td>2.342892</td>\n",
       "    </tr>\n",
       "    <tr>\n",
       "      <th>2016-03-07 05:37:27.298272</th>\n",
       "      <td>0.000107</td>\n",
       "      <td>1.116070</td>\n",
       "      <td>1.721211</td>\n",
       "      <td>-1.113839</td>\n",
       "      <td>0.06229</td>\n",
       "      <td>2.362184</td>\n",
       "    </tr>\n",
       "    <tr>\n",
       "      <th>2016-03-08 03:30:17.538911</th>\n",
       "      <td>0.000107</td>\n",
       "      <td>1.106130</td>\n",
       "      <td>1.721211</td>\n",
       "      <td>-1.103881</td>\n",
       "      <td>0.06229</td>\n",
       "      <td>2.377852</td>\n",
       "    </tr>\n",
       "    <tr>\n",
       "      <th>...</th>\n",
       "      <td>...</td>\n",
       "      <td>...</td>\n",
       "      <td>...</td>\n",
       "      <td>...</td>\n",
       "      <td>...</td>\n",
       "      <td>...</td>\n",
       "    </tr>\n",
       "    <tr>\n",
       "      <th>2022-09-25 03:15:40.345632</th>\n",
       "      <td>0.000118</td>\n",
       "      <td>1.700001</td>\n",
       "      <td>1.721401</td>\n",
       "      <td>-1.697708</td>\n",
       "      <td>0.06229</td>\n",
       "      <td>5.829283</td>\n",
       "    </tr>\n",
       "    <tr>\n",
       "      <th>2022-09-26 04:30:28.587167</th>\n",
       "      <td>0.000118</td>\n",
       "      <td>1.696254</td>\n",
       "      <td>1.721397</td>\n",
       "      <td>-1.693961</td>\n",
       "      <td>0.06229</td>\n",
       "      <td>5.847384</td>\n",
       "    </tr>\n",
       "    <tr>\n",
       "      <th>2022-09-27 02:23:18.378527</th>\n",
       "      <td>0.000118</td>\n",
       "      <td>1.697642</td>\n",
       "      <td>1.721394</td>\n",
       "      <td>-1.695348</td>\n",
       "      <td>0.06229</td>\n",
       "      <td>5.863071</td>\n",
       "    </tr>\n",
       "    <tr>\n",
       "      <th>2022-09-28 01:57:07.361279</th>\n",
       "      <td>0.000118</td>\n",
       "      <td>1.696380</td>\n",
       "      <td>1.721390</td>\n",
       "      <td>-1.694086</td>\n",
       "      <td>0.06229</td>\n",
       "      <td>5.879965</td>\n",
       "    </tr>\n",
       "    <tr>\n",
       "      <th>2022-09-29 01:30:56.336255</th>\n",
       "      <td>0.000118</td>\n",
       "      <td>1.695938</td>\n",
       "      <td>1.721387</td>\n",
       "      <td>-1.693645</td>\n",
       "      <td>0.06229</td>\n",
       "      <td>5.896858</td>\n",
       "    </tr>\n",
       "  </tbody>\n",
       "</table>\n",
       "<p>2385 rows × 6 columns</p>\n",
       "</div>"
      ],
      "text/plain": [
       "                            eccentricity  argument of perigee  inclination  \\\n",
       "2016-03-04 15:21:16.747488      0.000109             1.314804     1.721209   \n",
       "2016-03-05 03:07:49.774079      0.000116             1.219563     1.721205   \n",
       "2016-03-06 02:41:39.264000      0.000111             1.172992     1.721209   \n",
       "2016-03-07 05:37:27.298272      0.000107             1.116070     1.721211   \n",
       "2016-03-08 03:30:17.538911      0.000107             1.106130     1.721211   \n",
       "...                                  ...                  ...          ...   \n",
       "2022-09-25 03:15:40.345632      0.000118             1.700001     1.721401   \n",
       "2022-09-26 04:30:28.587167      0.000118             1.696254     1.721397   \n",
       "2022-09-27 02:23:18.378527      0.000118             1.697642     1.721394   \n",
       "2022-09-28 01:57:07.361279      0.000118             1.696380     1.721390   \n",
       "2022-09-29 01:30:56.336255      0.000118             1.695938     1.721387   \n",
       "\n",
       "                            mean anomaly  Brouwer mean motion  right ascension  \n",
       "2016-03-04 15:21:16.747488     -1.290057              0.06229         2.317569  \n",
       "2016-03-05 03:07:49.774079     -1.217329              0.06229         2.326014  \n",
       "2016-03-06 02:41:39.264000     -1.170795              0.06229         2.342892  \n",
       "2016-03-07 05:37:27.298272     -1.113839              0.06229         2.362184  \n",
       "2016-03-08 03:30:17.538911     -1.103881              0.06229         2.377852  \n",
       "...                                  ...                  ...              ...  \n",
       "2022-09-25 03:15:40.345632     -1.697708              0.06229         5.829283  \n",
       "2022-09-26 04:30:28.587167     -1.693961              0.06229         5.847384  \n",
       "2022-09-27 02:23:18.378527     -1.695348              0.06229         5.863071  \n",
       "2022-09-28 01:57:07.361279     -1.694086              0.06229         5.879965  \n",
       "2022-09-29 01:30:56.336255     -1.693645              0.06229         5.896858  \n",
       "\n",
       "[2385 rows x 6 columns]"
      ]
     },
     "execution_count": 35,
     "metadata": {},
     "output_type": "execute_result"
    }
   ],
   "source": [
    "df_tles"
   ]
  },
  {
   "cell_type": "markdown",
   "id": "fe0fe13809bb68d1",
   "metadata": {},
   "source": [
    "Check that the index has been loaded as a datetime object"
   ]
  },
  {
   "cell_type": "code",
   "execution_count": 36,
   "id": "6f184e61e9ec09e4",
   "metadata": {
    "ExecuteTime": {
     "end_time": "2024-07-01T07:08:17.215245Z",
     "start_time": "2024-07-01T07:08:17.210834Z"
    }
   },
   "outputs": [
    {
     "data": {
      "text/plain": [
       "'datetime64'"
      ]
     },
     "execution_count": 36,
     "metadata": {},
     "output_type": "execute_result"
    }
   ],
   "source": [
    "df_tles.index.inferred_type"
   ]
  },
  {
   "cell_type": "markdown",
   "id": "f55747e86a321aef",
   "metadata": {},
   "source": [
    "Make our life easier by making a dataframe with only the Brouwer mean motion, then centering and rescaling the data. Note that the rescaling is only done to make the numbers easier to read on screen (it has no effect on the operation of XGBoost)."
   ]
  },
  {
   "cell_type": "code",
   "execution_count": 37,
   "id": "543ce3e08896d37b",
   "metadata": {
    "ExecuteTime": {
     "end_time": "2024-07-01T07:10:09.221685Z",
     "start_time": "2024-07-01T07:10:09.211517Z"
    }
   },
   "outputs": [],
   "source": [
    "df_mm = df_tles[[\"Brouwer mean motion\"]]\n",
    "df_mm = (df_mm - df_mm.mean())*1e7"
   ]
  },
  {
   "cell_type": "code",
   "execution_count": 38,
   "id": "961cf286cf66a8ca",
   "metadata": {
    "ExecuteTime": {
     "end_time": "2024-07-01T07:10:11.628344Z",
     "start_time": "2024-07-01T07:10:11.282414Z"
    }
   },
   "outputs": [
    {
     "data": {
      "text/plain": [
       "<Axes: >"
      ]
     },
     "execution_count": 38,
     "metadata": {},
     "output_type": "execute_result"
    },
    {
     "data": {
      "image/png": "[encoded data removed]",
      "text/plain": [
       "<Figure size 640x480 with 1 Axes>"
      ]
     },
     "metadata": {},
     "output_type": "display_data"
    }
   ],
   "source": [
    "sns.lineplot(df_mm)"
   ]
  },
  {
   "cell_type": "code",
   "execution_count": 39,
   "id": "830e0ec47ca2d1b",
   "metadata": {
    "ExecuteTime": {
     "end_time": "2024-07-01T07:10:41.710015Z",
     "start_time": "2024-07-01T07:10:41.701117Z"
    }
   },
   "outputs": [
    {
     "data": {
      "application/vnd.microsoft.datawrangler.viewer.v0+json": {
       "columns": [
        {
         "name": "index",
         "rawType": "datetime64[ns]",
         "type": "datetime"
        },
        {
         "name": "Brouwer mean motion",
         "rawType": "float64",
         "type": "float"
        }
       ],
       "conversionMethod": "pd.DataFrame",
       "ref": "24855876-37cf-4b1c-931f-b52398209693",
       "rows": [
        [
         "2016-03-04 15:21:16.747488",
         "-1.9319935250228237"
        ],
        [
         "2016-03-05 03:07:49.774079",
         "-2.06096301400005"
        ],
        [
         "2016-03-06 02:41:39.264000",
         "-2.4576329820530374"
        ],
        [
         "2016-03-07 05:37:27.298272",
         "-2.5910823560348906"
        ],
        [
         "2016-03-08 03:30:17.538911",
         "-2.6011320890251266"
        ],
        [
         "2016-03-09 03:04:06.551904",
         "-1.6846820590638023"
        ],
        [
         "2016-03-10 02:37:55.725600",
         "-1.6846820590638023"
        ],
        [
         "2016-03-11 02:11:44.990879",
         "-1.3943306740454853"
        ],
        [
         "2016-03-12 01:45:34.054847",
         "-0.9130209660535016"
        ],
        [
         "2016-03-13 01:19:23.002175",
         "-0.7562327770244126"
        ],
        [
         "2016-03-14 02:34:11.327519",
         "-0.6412417140333471"
        ],
        [
         "2016-03-15 02:08:00.378528",
         "-0.3045821640040858"
        ],
        [
         "2016-03-16 01:41:49.038144",
         "0.02951942093543103"
        ],
        [
         "2016-03-17 01:15:37.568159",
         "0.5917742689626193"
        ],
        [
         "2016-03-18 02:30:25.763040",
         "0.7722318539488127"
        ],
        [
         "2016-03-19 02:04:14.645568",
         "0.8573276489426407"
        ],
        [
         "2016-03-20 01:38:03.597216",
         "0.8964708759356954"
        ],
        [
         "2016-03-21 02:52:51.764448",
         "0.9626300999376891"
        ],
        [
         "2016-03-22 02:26:40.729055",
         "0.9509785369593571"
        ],
        [
         "2016-03-23 00:19:30.567071",
         "0.877790691938829"
        ],
        [
         "2016-03-24 04:56:17.314080",
         "0.7021769119625043"
        ],
        [
         "2016-03-25 01:08:08.025503",
         "0.5439671380003119"
        ],
        [
         "2016-03-26 05:44:54.911616",
         "0.33987879795305265"
        ],
        [
         "2016-03-27 05:18:44.117280",
         "0.18465431995962067"
        ],
        [
         "2016-03-28 04:52:33.309984",
         "0.05826807099318376"
        ],
        [
         "2016-03-29 01:04:23.997216",
         "-0.037531912022714664"
        ],
        [
         "2016-03-30 05:41:10.822848",
         "-0.12765205406606306"
        ],
        [
         "2016-03-31 05:14:59.949024",
         "-0.16734147401109567"
        ],
        [
         "2016-04-01 04:48:49.033728",
         "-0.1643203180468067"
        ],
        [
         "2016-04-02 04:22:38.088191",
         "-0.11006777406175061"
        ],
        [
         "2016-04-03 05:37:26.327135",
         "0.0019711119542131783"
        ],
        [
         "2016-04-04 01:49:16.919328",
         "0.08011137496433118"
        ],
        [
         "2016-04-05 04:45:04.374719",
         "0.13716818798858998"
        ],
        [
         "2016-04-06 04:18:53.427455",
         "0.17474493997637897"
        ],
        [
         "2016-04-07 05:33:41.682816",
         "0.22473842099801633"
        ],
        [
         "2016-04-08 05:07:30.637920",
         "0.31012497396509797"
        ],
        [
         "2016-04-09 04:41:19.670784",
         "0.35574877293997886"
        ],
        [
         "2016-04-10 04:15:08.680320",
         "0.39569222197444187"
        ],
        [
         "2016-04-11 03:48:57.686399",
         "0.44910882797399854"
        ],
        [
         "2016-04-12 03:22:46.677791",
         "0.507221602982777"
        ],
        [
         "2016-04-13 04:37:34.883040",
         "0.5607104849869593"
        ],
        [
         "2016-04-14 00:49:25.430303",
         "0.6144544769520754"
        ],
        [
         "2016-04-15 03:45:12.734496",
         "0.7738657899908352"
        ],
        [
         "2016-04-16 03:19:01.563456",
         "0.9359707079520385"
        ],
        [
         "2016-04-17 04:33:49.580351",
         "1.1126061139760113"
        ],
        [
         "2016-04-18 04:07:38.361792",
         "1.2576719539414416"
        ],
        [
         "2016-04-19 02:00:27.940608",
         "1.4044867289314533"
        ],
        [
         "2016-04-20 04:56:15.082368",
         "1.6005591829681975"
        ],
        [
         "2016-04-21 01:08:05.578655",
         "1.5627605859380722"
        ],
        [
         "2016-04-22 04:03:53.126496",
         "1.3882724139713254"
        ]
       ],
       "shape": {
        "columns": 1,
        "rows": 2385
       }
      },
      "text/html": [
       "<div>\n",
       "<style scoped>\n",
       "    .dataframe tbody tr th:only-of-type {\n",
       "        vertical-align: middle;\n",
       "    }\n",
       "\n",
       "    .dataframe tbody tr th {\n",
       "        vertical-align: top;\n",
       "    }\n",
       "\n",
       "    .dataframe thead th {\n",
       "        text-align: right;\n",
       "    }\n",
       "</style>\n",
       "<table border=\"1\" class=\"dataframe\">\n",
       "  <thead>\n",
       "    <tr style=\"text-align: right;\">\n",
       "      <th></th>\n",
       "      <th>Brouwer mean motion</th>\n",
       "    </tr>\n",
       "  </thead>\n",
       "  <tbody>\n",
       "    <tr>\n",
       "      <th>2016-03-04 15:21:16.747488</th>\n",
       "      <td>-1.931994</td>\n",
       "    </tr>\n",
       "    <tr>\n",
       "      <th>2016-03-05 03:07:49.774079</th>\n",
       "      <td>-2.060963</td>\n",
       "    </tr>\n",
       "    <tr>\n",
       "      <th>2016-03-06 02:41:39.264000</th>\n",
       "      <td>-2.457633</td>\n",
       "    </tr>\n",
       "    <tr>\n",
       "      <th>2016-03-07 05:37:27.298272</th>\n",
       "      <td>-2.591082</td>\n",
       "    </tr>\n",
       "    <tr>\n",
       "      <th>2016-03-08 03:30:17.538911</th>\n",
       "      <td>-2.601132</td>\n",
       "    </tr>\n",
       "    <tr>\n",
       "      <th>...</th>\n",
       "      <td>...</td>\n",
       "    </tr>\n",
       "    <tr>\n",
       "      <th>2022-09-25 03:15:40.345632</th>\n",
       "      <td>0.509231</td>\n",
       "    </tr>\n",
       "    <tr>\n",
       "      <th>2022-09-26 04:30:28.587167</th>\n",
       "      <td>0.588683</td>\n",
       "    </tr>\n",
       "    <tr>\n",
       "      <th>2022-09-27 02:23:18.378527</th>\n",
       "      <td>0.682117</td>\n",
       "    </tr>\n",
       "    <tr>\n",
       "      <th>2022-09-28 01:57:07.361279</th>\n",
       "      <td>0.832353</td>\n",
       "    </tr>\n",
       "    <tr>\n",
       "      <th>2022-09-29 01:30:56.336255</th>\n",
       "      <td>0.945012</td>\n",
       "    </tr>\n",
       "  </tbody>\n",
       "</table>\n",
       "<p>2385 rows × 1 columns</p>\n",
       "</div>"
      ],
      "text/plain": [
       "                            Brouwer mean motion\n",
       "2016-03-04 15:21:16.747488            -1.931994\n",
       "2016-03-05 03:07:49.774079            -2.060963\n",
       "2016-03-06 02:41:39.264000            -2.457633\n",
       "2016-03-07 05:37:27.298272            -2.591082\n",
       "2016-03-08 03:30:17.538911            -2.601132\n",
       "...                                         ...\n",
       "2022-09-25 03:15:40.345632             0.509231\n",
       "2022-09-26 04:30:28.587167             0.588683\n",
       "2022-09-27 02:23:18.378527             0.682117\n",
       "2022-09-28 01:57:07.361279             0.832353\n",
       "2022-09-29 01:30:56.336255             0.945012\n",
       "\n",
       "[2385 rows x 1 columns]"
      ]
     },
     "execution_count": 39,
     "metadata": {},
     "output_type": "execute_result"
    }
   ],
   "source": [
    "df_mm"
   ]
  },
  {
   "cell_type": "markdown",
   "id": "7d496e85925d9b9d",
   "metadata": {},
   "source": [
    "We now start constructing features the feature and label matrices"
   ]
  },
  {
   "cell_type": "code",
   "execution_count": 40,
   "id": "3ac59594810653e2",
   "metadata": {
    "ExecuteTime": {
     "end_time": "2024-07-01T07:13:44.784790Z",
     "start_time": "2024-07-01T07:13:44.778075Z"
    }
   },
   "outputs": [],
   "source": [
    "df_y = df_mm.copy()"
   ]
  },
  {
   "cell_type": "code",
   "execution_count": 41,
   "id": "4321d286365b81c9",
   "metadata": {
    "ExecuteTime": {
     "end_time": "2024-07-01T07:13:55.012802Z",
     "start_time": "2024-07-01T07:13:55.009304Z"
    }
   },
   "outputs": [],
   "source": [
    "df_x = df_mm.shift(1)"
   ]
  },
  {
   "cell_type": "code",
   "execution_count": 42,
   "id": "3367cf97a63a8c7e",
   "metadata": {
    "ExecuteTime": {
     "end_time": "2024-07-01T07:13:56.984509Z",
     "start_time": "2024-07-01T07:13:56.976971Z"
    }
   },
   "outputs": [
    {
     "data": {
      "application/vnd.microsoft.datawrangler.viewer.v0+json": {
       "columns": [
        {
         "name": "index",
         "rawType": "datetime64[ns]",
         "type": "datetime"
        },
        {
         "name": "Brouwer mean motion",
         "rawType": "float64",
         "type": "float"
        }
       ],
       "conversionMethod": "pd.DataFrame",
       "ref": "9cf88871-e52d-4af0-ae37-e4867a133de7",
       "rows": [
        [
         "2016-03-04 15:21:16.747488",
         "-1.9319935250228237"
        ],
        [
         "2016-03-05 03:07:49.774079",
         "-2.06096301400005"
        ],
        [
         "2016-03-06 02:41:39.264000",
         "-2.4576329820530374"
        ],
        [
         "2016-03-07 05:37:27.298272",
         "-2.5910823560348906"
        ],
        [
         "2016-03-08 03:30:17.538911",
         "-2.6011320890251266"
        ],
        [
         "2016-03-09 03:04:06.551904",
         "-1.6846820590638023"
        ],
        [
         "2016-03-10 02:37:55.725600",
         "-1.6846820590638023"
        ],
        [
         "2016-03-11 02:11:44.990879",
         "-1.3943306740454853"
        ],
        [
         "2016-03-12 01:45:34.054847",
         "-0.9130209660535016"
        ],
        [
         "2016-03-13 01:19:23.002175",
         "-0.7562327770244126"
        ],
        [
         "2016-03-14 02:34:11.327519",
         "-0.6412417140333471"
        ],
        [
         "2016-03-15 02:08:00.378528",
         "-0.3045821640040858"
        ],
        [
         "2016-03-16 01:41:49.038144",
         "0.02951942093543103"
        ],
        [
         "2016-03-17 01:15:37.568159",
         "0.5917742689626193"
        ],
        [
         "2016-03-18 02:30:25.763040",
         "0.7722318539488127"
        ],
        [
         "2016-03-19 02:04:14.645568",
         "0.8573276489426407"
        ],
        [
         "2016-03-20 01:38:03.597216",
         "0.8964708759356954"
        ],
        [
         "2016-03-21 02:52:51.764448",
         "0.9626300999376891"
        ],
        [
         "2016-03-22 02:26:40.729055",
         "0.9509785369593571"
        ],
        [
         "2016-03-23 00:19:30.567071",
         "0.877790691938829"
        ],
        [
         "2016-03-24 04:56:17.314080",
         "0.7021769119625043"
        ],
        [
         "2016-03-25 01:08:08.025503",
         "0.5439671380003119"
        ],
        [
         "2016-03-26 05:44:54.911616",
         "0.33987879795305265"
        ],
        [
         "2016-03-27 05:18:44.117280",
         "0.18465431995962067"
        ],
        [
         "2016-03-28 04:52:33.309984",
         "0.05826807099318376"
        ],
        [
         "2016-03-29 01:04:23.997216",
         "-0.037531912022714664"
        ],
        [
         "2016-03-30 05:41:10.822848",
         "-0.12765205406606306"
        ],
        [
         "2016-03-31 05:14:59.949024",
         "-0.16734147401109567"
        ],
        [
         "2016-04-01 04:48:49.033728",
         "-0.1643203180468067"
        ],
        [
         "2016-04-02 04:22:38.088191",
         "-0.11006777406175061"
        ],
        [
         "2016-04-03 05:37:26.327135",
         "0.0019711119542131783"
        ],
        [
         "2016-04-04 01:49:16.919328",
         "0.08011137496433118"
        ],
        [
         "2016-04-05 04:45:04.374719",
         "0.13716818798858998"
        ],
        [
         "2016-04-06 04:18:53.427455",
         "0.17474493997637897"
        ],
        [
         "2016-04-07 05:33:41.682816",
         "0.22473842099801633"
        ],
        [
         "2016-04-08 05:07:30.637920",
         "0.31012497396509797"
        ],
        [
         "2016-04-09 04:41:19.670784",
         "0.35574877293997886"
        ],
        [
         "2016-04-10 04:15:08.680320",
         "0.39569222197444187"
        ],
        [
         "2016-04-11 03:48:57.686399",
         "0.44910882797399854"
        ],
        [
         "2016-04-12 03:22:46.677791",
         "0.507221602982777"
        ],
        [
         "2016-04-13 04:37:34.883040",
         "0.5607104849869593"
        ],
        [
         "2016-04-14 00:49:25.430303",
         "0.6144544769520754"
        ],
        [
         "2016-04-15 03:45:12.734496",
         "0.7738657899908352"
        ],
        [
         "2016-04-16 03:19:01.563456",
         "0.9359707079520385"
        ],
        [
         "2016-04-17 04:33:49.580351",
         "1.1126061139760113"
        ],
        [
         "2016-04-18 04:07:38.361792",
         "1.2576719539414416"
        ],
        [
         "2016-04-19 02:00:27.940608",
         "1.4044867289314533"
        ],
        [
         "2016-04-20 04:56:15.082368",
         "1.6005591829681975"
        ],
        [
         "2016-04-21 01:08:05.578655",
         "1.5627605859380722"
        ],
        [
         "2016-04-22 04:03:53.126496",
         "1.3882724139713254"
        ]
       ],
       "shape": {
        "columns": 1,
        "rows": 2385
       }
      },
      "text/html": [
       "<div>\n",
       "<style scoped>\n",
       "    .dataframe tbody tr th:only-of-type {\n",
       "        vertical-align: middle;\n",
       "    }\n",
       "\n",
       "    .dataframe tbody tr th {\n",
       "        vertical-align: top;\n",
       "    }\n",
       "\n",
       "    .dataframe thead th {\n",
       "        text-align: right;\n",
       "    }\n",
       "</style>\n",
       "<table border=\"1\" class=\"dataframe\">\n",
       "  <thead>\n",
       "    <tr style=\"text-align: right;\">\n",
       "      <th></th>\n",
       "      <th>Brouwer mean motion</th>\n",
       "    </tr>\n",
       "  </thead>\n",
       "  <tbody>\n",
       "    <tr>\n",
       "      <th>2016-03-04 15:21:16.747488</th>\n",
       "      <td>-1.931994</td>\n",
       "    </tr>\n",
       "    <tr>\n",
       "      <th>2016-03-05 03:07:49.774079</th>\n",
       "      <td>-2.060963</td>\n",
       "    </tr>\n",
       "    <tr>\n",
       "      <th>2016-03-06 02:41:39.264000</th>\n",
       "      <td>-2.457633</td>\n",
       "    </tr>\n",
       "    <tr>\n",
       "      <th>2016-03-07 05:37:27.298272</th>\n",
       "      <td>-2.591082</td>\n",
       "    </tr>\n",
       "    <tr>\n",
       "      <th>2016-03-08 03:30:17.538911</th>\n",
       "      <td>-2.601132</td>\n",
       "    </tr>\n",
       "    <tr>\n",
       "      <th>...</th>\n",
       "      <td>...</td>\n",
       "    </tr>\n",
       "    <tr>\n",
       "      <th>2022-09-25 03:15:40.345632</th>\n",
       "      <td>0.509231</td>\n",
       "    </tr>\n",
       "    <tr>\n",
       "      <th>2022-09-26 04:30:28.587167</th>\n",
       "      <td>0.588683</td>\n",
       "    </tr>\n",
       "    <tr>\n",
       "      <th>2022-09-27 02:23:18.378527</th>\n",
       "      <td>0.682117</td>\n",
       "    </tr>\n",
       "    <tr>\n",
       "      <th>2022-09-28 01:57:07.361279</th>\n",
       "      <td>0.832353</td>\n",
       "    </tr>\n",
       "    <tr>\n",
       "      <th>2022-09-29 01:30:56.336255</th>\n",
       "      <td>0.945012</td>\n",
       "    </tr>\n",
       "  </tbody>\n",
       "</table>\n",
       "<p>2385 rows × 1 columns</p>\n",
       "</div>"
      ],
      "text/plain": [
       "                            Brouwer mean motion\n",
       "2016-03-04 15:21:16.747488            -1.931994\n",
       "2016-03-05 03:07:49.774079            -2.060963\n",
       "2016-03-06 02:41:39.264000            -2.457633\n",
       "2016-03-07 05:37:27.298272            -2.591082\n",
       "2016-03-08 03:30:17.538911            -2.601132\n",
       "...                                         ...\n",
       "2022-09-25 03:15:40.345632             0.509231\n",
       "2022-09-26 04:30:28.587167             0.588683\n",
       "2022-09-27 02:23:18.378527             0.682117\n",
       "2022-09-28 01:57:07.361279             0.832353\n",
       "2022-09-29 01:30:56.336255             0.945012\n",
       "\n",
       "[2385 rows x 1 columns]"
      ]
     },
     "execution_count": 42,
     "metadata": {},
     "output_type": "execute_result"
    }
   ],
   "source": [
    "df_y"
   ]
  },
  {
   "cell_type": "code",
   "execution_count": 43,
   "id": "351a1f03089c158",
   "metadata": {
    "ExecuteTime": {
     "end_time": "2024-07-01T07:13:57.418993Z",
     "start_time": "2024-07-01T07:13:57.411879Z"
    }
   },
   "outputs": [
    {
     "data": {
      "application/vnd.microsoft.datawrangler.viewer.v0+json": {
       "columns": [
        {
         "name": "index",
         "rawType": "datetime64[ns]",
         "type": "datetime"
        },
        {
         "name": "Brouwer mean motion",
         "rawType": "float64",
         "type": "float"
        }
       ],
       "conversionMethod": "pd.DataFrame",
       "ref": "d5951b54-e5bb-43c0-b14e-12e91afdce11",
       "rows": [
        [
         "2016-03-04 15:21:16.747488",
         null
        ],
        [
         "2016-03-05 03:07:49.774079",
         "-1.9319935250228237"
        ],
        [
         "2016-03-06 02:41:39.264000",
         "-2.06096301400005"
        ],
        [
         "2016-03-07 05:37:27.298272",
         "-2.4576329820530374"
        ],
        [
         "2016-03-08 03:30:17.538911",
         "-2.5910823560348906"
        ],
        [
         "2016-03-09 03:04:06.551904",
         "-2.6011320890251266"
        ],
        [
         "2016-03-10 02:37:55.725600",
         "-1.6846820590638023"
        ],
        [
         "2016-03-11 02:11:44.990879",
         "-1.6846820590638023"
        ],
        [
         "2016-03-12 01:45:34.054847",
         "-1.3943306740454853"
        ],
        [
         "2016-03-13 01:19:23.002175",
         "-0.9130209660535016"
        ],
        [
         "2016-03-14 02:34:11.327519",
         "-0.7562327770244126"
        ],
        [
         "2016-03-15 02:08:00.378528",
         "-0.6412417140333471"
        ],
        [
         "2016-03-16 01:41:49.038144",
         "-0.3045821640040858"
        ],
        [
         "2016-03-17 01:15:37.568159",
         "0.02951942093543103"
        ],
        [
         "2016-03-18 02:30:25.763040",
         "0.5917742689626193"
        ],
        [
         "2016-03-19 02:04:14.645568",
         "0.7722318539488127"
        ],
        [
         "2016-03-20 01:38:03.597216",
         "0.8573276489426407"
        ],
        [
         "2016-03-21 02:52:51.764448",
         "0.8964708759356954"
        ],
        [
         "2016-03-22 02:26:40.729055",
         "0.9626300999376891"
        ],
        [
         "2016-03-23 00:19:30.567071",
         "0.9509785369593571"
        ],
        [
         "2016-03-24 04:56:17.314080",
         "0.877790691938829"
        ],
        [
         "2016-03-25 01:08:08.025503",
         "0.7021769119625043"
        ],
        [
         "2016-03-26 05:44:54.911616",
         "0.5439671380003119"
        ],
        [
         "2016-03-27 05:18:44.117280",
         "0.33987879795305265"
        ],
        [
         "2016-03-28 04:52:33.309984",
         "0.18465431995962067"
        ],
        [
         "2016-03-29 01:04:23.997216",
         "0.05826807099318376"
        ],
        [
         "2016-03-30 05:41:10.822848",
         "-0.037531912022714664"
        ],
        [
         "2016-03-31 05:14:59.949024",
         "-0.12765205406606306"
        ],
        [
         "2016-04-01 04:48:49.033728",
         "-0.16734147401109567"
        ],
        [
         "2016-04-02 04:22:38.088191",
         "-0.1643203180468067"
        ],
        [
         "2016-04-03 05:37:26.327135",
         "-0.11006777406175061"
        ],
        [
         "2016-04-04 01:49:16.919328",
         "0.0019711119542131783"
        ],
        [
         "2016-04-05 04:45:04.374719",
         "0.08011137496433118"
        ],
        [
         "2016-04-06 04:18:53.427455",
         "0.13716818798858998"
        ],
        [
         "2016-04-07 05:33:41.682816",
         "0.17474493997637897"
        ],
        [
         "2016-04-08 05:07:30.637920",
         "0.22473842099801633"
        ],
        [
         "2016-04-09 04:41:19.670784",
         "0.31012497396509797"
        ],
        [
         "2016-04-10 04:15:08.680320",
         "0.35574877293997886"
        ],
        [
         "2016-04-11 03:48:57.686399",
         "0.39569222197444187"
        ],
        [
         "2016-04-12 03:22:46.677791",
         "0.44910882797399854"
        ],
        [
         "2016-04-13 04:37:34.883040",
         "0.507221602982777"
        ],
        [
         "2016-04-14 00:49:25.430303",
         "0.5607104849869593"
        ],
        [
         "2016-04-15 03:45:12.734496",
         "0.6144544769520754"
        ],
        [
         "2016-04-16 03:19:01.563456",
         "0.7738657899908352"
        ],
        [
         "2016-04-17 04:33:49.580351",
         "0.9359707079520385"
        ],
        [
         "2016-04-18 04:07:38.361792",
         "1.1126061139760113"
        ],
        [
         "2016-04-19 02:00:27.940608",
         "1.2576719539414416"
        ],
        [
         "2016-04-20 04:56:15.082368",
         "1.4044867289314533"
        ],
        [
         "2016-04-21 01:08:05.578655",
         "1.6005591829681975"
        ],
        [
         "2016-04-22 04:03:53.126496",
         "1.5627605859380722"
        ]
       ],
       "shape": {
        "columns": 1,
        "rows": 2385
       }
      },
      "text/html": [
       "<div>\n",
       "<style scoped>\n",
       "    .dataframe tbody tr th:only-of-type {\n",
       "        vertical-align: middle;\n",
       "    }\n",
       "\n",
       "    .dataframe tbody tr th {\n",
       "        vertical-align: top;\n",
       "    }\n",
       "\n",
       "    .dataframe thead th {\n",
       "        text-align: right;\n",
       "    }\n",
       "</style>\n",
       "<table border=\"1\" class=\"dataframe\">\n",
       "  <thead>\n",
       "    <tr style=\"text-align: right;\">\n",
       "      <th></th>\n",
       "      <th>Brouwer mean motion</th>\n",
       "    </tr>\n",
       "  </thead>\n",
       "  <tbody>\n",
       "    <tr>\n",
       "      <th>2016-03-04 15:21:16.747488</th>\n",
       "      <td>NaN</td>\n",
       "    </tr>\n",
       "    <tr>\n",
       "      <th>2016-03-05 03:07:49.774079</th>\n",
       "      <td>-1.931994</td>\n",
       "    </tr>\n",
       "    <tr>\n",
       "      <th>2016-03-06 02:41:39.264000</th>\n",
       "      <td>-2.060963</td>\n",
       "    </tr>\n",
       "    <tr>\n",
       "      <th>2016-03-07 05:37:27.298272</th>\n",
       "      <td>-2.457633</td>\n",
       "    </tr>\n",
       "    <tr>\n",
       "      <th>2016-03-08 03:30:17.538911</th>\n",
       "      <td>-2.591082</td>\n",
       "    </tr>\n",
       "    <tr>\n",
       "      <th>...</th>\n",
       "      <td>...</td>\n",
       "    </tr>\n",
       "    <tr>\n",
       "      <th>2022-09-25 03:15:40.345632</th>\n",
       "      <td>0.376035</td>\n",
       "    </tr>\n",
       "    <tr>\n",
       "      <th>2022-09-26 04:30:28.587167</th>\n",
       "      <td>0.509231</td>\n",
       "    </tr>\n",
       "    <tr>\n",
       "      <th>2022-09-27 02:23:18.378527</th>\n",
       "      <td>0.588683</td>\n",
       "    </tr>\n",
       "    <tr>\n",
       "      <th>2022-09-28 01:57:07.361279</th>\n",
       "      <td>0.682117</td>\n",
       "    </tr>\n",
       "    <tr>\n",
       "      <th>2022-09-29 01:30:56.336255</th>\n",
       "      <td>0.832353</td>\n",
       "    </tr>\n",
       "  </tbody>\n",
       "</table>\n",
       "<p>2385 rows × 1 columns</p>\n",
       "</div>"
      ],
      "text/plain": [
       "                            Brouwer mean motion\n",
       "2016-03-04 15:21:16.747488                  NaN\n",
       "2016-03-05 03:07:49.774079            -1.931994\n",
       "2016-03-06 02:41:39.264000            -2.060963\n",
       "2016-03-07 05:37:27.298272            -2.457633\n",
       "2016-03-08 03:30:17.538911            -2.591082\n",
       "...                                         ...\n",
       "2022-09-25 03:15:40.345632             0.376035\n",
       "2022-09-26 04:30:28.587167             0.509231\n",
       "2022-09-27 02:23:18.378527             0.588683\n",
       "2022-09-28 01:57:07.361279             0.682117\n",
       "2022-09-29 01:30:56.336255             0.832353\n",
       "\n",
       "[2385 rows x 1 columns]"
      ]
     },
     "execution_count": 43,
     "metadata": {},
     "output_type": "execute_result"
    }
   ],
   "source": [
    "df_x"
   ]
  },
  {
   "cell_type": "code",
   "execution_count": 44,
   "id": "24bc2400a59acb9d",
   "metadata": {
    "ExecuteTime": {
     "end_time": "2024-07-01T07:14:52.952974Z",
     "start_time": "2024-07-01T07:14:52.947333Z"
    }
   },
   "outputs": [],
   "source": [
    "df_x = df_x.rename(columns={\"Brouwer mean motion\": \"bmm_lag_1\"})"
   ]
  },
  {
   "cell_type": "code",
   "execution_count": 45,
   "id": "cea37d9bd4f22128",
   "metadata": {
    "ExecuteTime": {
     "end_time": "2024-07-01T07:15:21.045403Z",
     "start_time": "2024-07-01T07:15:21.040082Z"
    }
   },
   "outputs": [],
   "source": [
    "for lag in range(2, NUM_LAG_FEATURES + 1):\n",
    "    df_x[f\"bmm_lag_{lag}\"] = df_mm.shift(lag)"
   ]
  },
  {
   "cell_type": "code",
   "execution_count": 46,
   "id": "13bf623adb15ba29",
   "metadata": {
    "ExecuteTime": {
     "end_time": "2024-07-01T07:15:24.386065Z",
     "start_time": "2024-07-01T07:15:24.368577Z"
    }
   },
   "outputs": [
    {
     "data": {
      "application/vnd.microsoft.datawrangler.viewer.v0+json": {
       "columns": [
        {
         "name": "index",
         "rawType": "datetime64[ns]",
         "type": "datetime"
        },
        {
         "name": "bmm_lag_1",
         "rawType": "float64",
         "type": "float"
        },
        {
         "name": "bmm_lag_2",
         "rawType": "float64",
         "type": "float"
        },
        {
         "name": "bmm_lag_3",
         "rawType": "float64",
         "type": "float"
        }
       ],
       "conversionMethod": "pd.DataFrame",
       "ref": "c2a7f03f-0854-4c7e-8fe4-dfe2674db03b",
       "rows": [
        [
         "2016-03-04 15:21:16.747488",
         null,
         null,
         null
        ],
        [
         "2016-03-05 03:07:49.774079",
         "-1.9319935250228237",
         null,
         null
        ],
        [
         "2016-03-06 02:41:39.264000",
         "-2.06096301400005",
         "-1.9319935250228237",
         null
        ],
        [
         "2016-03-07 05:37:27.298272",
         "-2.4576329820530374",
         "-2.06096301400005",
         "-1.9319935250228237"
        ],
        [
         "2016-03-08 03:30:17.538911",
         "-2.5910823560348906",
         "-2.4576329820530374",
         "-2.06096301400005"
        ],
        [
         "2016-03-09 03:04:06.551904",
         "-2.6011320890251266",
         "-2.5910823560348906",
         "-2.4576329820530374"
        ],
        [
         "2016-03-10 02:37:55.725600",
         "-1.6846820590638023",
         "-2.6011320890251266",
         "-2.5910823560348906"
        ],
        [
         "2016-03-11 02:11:44.990879",
         "-1.6846820590638023",
         "-1.6846820590638023",
         "-2.6011320890251266"
        ],
        [
         "2016-03-12 01:45:34.054847",
         "-1.3943306740454853",
         "-1.6846820590638023",
         "-1.6846820590638023"
        ],
        [
         "2016-03-13 01:19:23.002175",
         "-0.9130209660535016",
         "-1.3943306740454853",
         "-1.6846820590638023"
        ],
        [
         "2016-03-14 02:34:11.327519",
         "-0.7562327770244126",
         "-0.9130209660535016",
         "-1.3943306740454853"
        ],
        [
         "2016-03-15 02:08:00.378528",
         "-0.6412417140333471",
         "-0.7562327770244126",
         "-0.9130209660535016"
        ],
        [
         "2016-03-16 01:41:49.038144",
         "-0.3045821640040858",
         "-0.6412417140333471",
         "-0.7562327770244126"
        ],
        [
         "2016-03-17 01:15:37.568159",
         "0.02951942093543103",
         "-0.3045821640040858",
         "-0.6412417140333471"
        ],
        [
         "2016-03-18 02:30:25.763040",
         "0.5917742689626193",
         "0.02951942093543103",
         "-0.3045821640040858"
        ],
        [
         "2016-03-19 02:04:14.645568",
         "0.7722318539488127",
         "0.5917742689626193",
         "0.02951942093543103"
        ],
        [
         "2016-03-20 01:38:03.597216",
         "0.8573276489426407",
         "0.7722318539488127",
         "0.5917742689626193"
        ],
        [
         "2016-03-21 02:52:51.764448",
         "0.8964708759356954",
         "0.8573276489426407",
         "0.7722318539488127"
        ],
        [
         "2016-03-22 02:26:40.729055",
         "0.9626300999376891",
         "0.8964708759356954",
         "0.8573276489426407"
        ],
        [
         "2016-03-23 00:19:30.567071",
         "0.9509785369593571",
         "0.9626300999376891",
         "0.8964708759356954"
        ],
        [
         "2016-03-24 04:56:17.314080",
         "0.877790691938829",
         "0.9509785369593571",
         "0.9626300999376891"
        ],
        [
         "2016-03-25 01:08:08.025503",
         "0.7021769119625043",
         "0.877790691938829",
         "0.9509785369593571"
        ],
        [
         "2016-03-26 05:44:54.911616",
         "0.5439671380003119",
         "0.7021769119625043",
         "0.877790691938829"
        ],
        [
         "2016-03-27 05:18:44.117280",
         "0.33987879795305265",
         "0.5439671380003119",
         "0.7021769119625043"
        ],
        [
         "2016-03-28 04:52:33.309984",
         "0.18465431995962067",
         "0.33987879795305265",
         "0.5439671380003119"
        ],
        [
         "2016-03-29 01:04:23.997216",
         "0.05826807099318376",
         "0.18465431995962067",
         "0.33987879795305265"
        ],
        [
         "2016-03-30 05:41:10.822848",
         "-0.037531912022714664",
         "0.05826807099318376",
         "0.18465431995962067"
        ],
        [
         "2016-03-31 05:14:59.949024",
         "-0.12765205406606306",
         "-0.037531912022714664",
         "0.05826807099318376"
        ],
        [
         "2016-04-01 04:48:49.033728",
         "-0.16734147401109567",
         "-0.12765205406606306",
         "-0.037531912022714664"
        ],
        [
         "2016-04-02 04:22:38.088191",
         "-0.1643203180468067",
         "-0.16734147401109567",
         "-0.12765205406606306"
        ],
        [
         "2016-04-03 05:37:26.327135",
         "-0.11006777406175061",
         "-0.1643203180468067",
         "-0.16734147401109567"
        ],
        [
         "2016-04-04 01:49:16.919328",
         "0.0019711119542131783",
         "-0.11006777406175061",
         "-0.1643203180468067"
        ],
        [
         "2016-04-05 04:45:04.374719",
         "0.08011137496433118",
         "0.0019711119542131783",
         "-0.11006777406175061"
        ],
        [
         "2016-04-06 04:18:53.427455",
         "0.13716818798858998",
         "0.08011137496433118",
         "0.0019711119542131783"
        ],
        [
         "2016-04-07 05:33:41.682816",
         "0.17474493997637897",
         "0.13716818798858998",
         "0.08011137496433118"
        ],
        [
         "2016-04-08 05:07:30.637920",
         "0.22473842099801633",
         "0.17474493997637897",
         "0.13716818798858998"
        ],
        [
         "2016-04-09 04:41:19.670784",
         "0.31012497396509797",
         "0.22473842099801633",
         "0.17474493997637897"
        ],
        [
         "2016-04-10 04:15:08.680320",
         "0.35574877293997886",
         "0.31012497396509797",
         "0.22473842099801633"
        ],
        [
         "2016-04-11 03:48:57.686399",
         "0.39569222197444187",
         "0.35574877293997886",
         "0.31012497396509797"
        ],
        [
         "2016-04-12 03:22:46.677791",
         "0.44910882797399854",
         "0.39569222197444187",
         "0.35574877293997886"
        ],
        [
         "2016-04-13 04:37:34.883040",
         "0.507221602982777",
         "0.44910882797399854",
         "0.39569222197444187"
        ],
        [
         "2016-04-14 00:49:25.430303",
         "0.5607104849869593",
         "0.507221602982777",
         "0.44910882797399854"
        ],
        [
         "2016-04-15 03:45:12.734496",
         "0.6144544769520754",
         "0.5607104849869593",
         "0.507221602982777"
        ],
        [
         "2016-04-16 03:19:01.563456",
         "0.7738657899908352",
         "0.6144544769520754",
         "0.5607104849869593"
        ],
        [
         "2016-04-17 04:33:49.580351",
         "0.9359707079520385",
         "0.7738657899908352",
         "0.6144544769520754"
        ],
        [
         "2016-04-18 04:07:38.361792",
         "1.1126061139760113",
         "0.9359707079520385",
         "0.7738657899908352"
        ],
        [
         "2016-04-19 02:00:27.940608",
         "1.2576719539414416",
         "1.1126061139760113",
         "0.9359707079520385"
        ],
        [
         "2016-04-20 04:56:15.082368",
         "1.4044867289314533",
         "1.2576719539414416",
         "1.1126061139760113"
        ],
        [
         "2016-04-21 01:08:05.578655",
         "1.6005591829681975",
         "1.4044867289314533",
         "1.2576719539414416"
        ],
        [
         "2016-04-22 04:03:53.126496",
         "1.5627605859380722",
         "1.6005591829681975",
         "1.4044867289314533"
        ]
       ],
       "shape": {
        "columns": 3,
        "rows": 2385
       }
      },
      "text/html": [
       "<div>\n",
       "<style scoped>\n",
       "    .dataframe tbody tr th:only-of-type {\n",
       "        vertical-align: middle;\n",
       "    }\n",
       "\n",
       "    .dataframe tbody tr th {\n",
       "        vertical-align: top;\n",
       "    }\n",
       "\n",
       "    .dataframe thead th {\n",
       "        text-align: right;\n",
       "    }\n",
       "</style>\n",
       "<table border=\"1\" class=\"dataframe\">\n",
       "  <thead>\n",
       "    <tr style=\"text-align: right;\">\n",
       "      <th></th>\n",
       "      <th>bmm_lag_1</th>\n",
       "      <th>bmm_lag_2</th>\n",
       "      <th>bmm_lag_3</th>\n",
       "    </tr>\n",
       "  </thead>\n",
       "  <tbody>\n",
       "    <tr>\n",
       "      <th>2016-03-04 15:21:16.747488</th>\n",
       "      <td>NaN</td>\n",
       "      <td>NaN</td>\n",
       "      <td>NaN</td>\n",
       "    </tr>\n",
       "    <tr>\n",
       "      <th>2016-03-05 03:07:49.774079</th>\n",
       "      <td>-1.931994</td>\n",
       "      <td>NaN</td>\n",
       "      <td>NaN</td>\n",
       "    </tr>\n",
       "    <tr>\n",
       "      <th>2016-03-06 02:41:39.264000</th>\n",
       "      <td>-2.060963</td>\n",
       "      <td>-1.931994</td>\n",
       "      <td>NaN</td>\n",
       "    </tr>\n",
       "    <tr>\n",
       "      <th>2016-03-07 05:37:27.298272</th>\n",
       "      <td>-2.457633</td>\n",
       "      <td>-2.060963</td>\n",
       "      <td>-1.931994</td>\n",
       "    </tr>\n",
       "    <tr>\n",
       "      <th>2016-03-08 03:30:17.538911</th>\n",
       "      <td>-2.591082</td>\n",
       "      <td>-2.457633</td>\n",
       "      <td>-2.060963</td>\n",
       "    </tr>\n",
       "    <tr>\n",
       "      <th>...</th>\n",
       "      <td>...</td>\n",
       "      <td>...</td>\n",
       "      <td>...</td>\n",
       "    </tr>\n",
       "    <tr>\n",
       "      <th>2022-09-25 03:15:40.345632</th>\n",
       "      <td>0.376035</td>\n",
       "      <td>0.301572</td>\n",
       "      <td>0.193902</td>\n",
       "    </tr>\n",
       "    <tr>\n",
       "      <th>2022-09-26 04:30:28.587167</th>\n",
       "      <td>0.509231</td>\n",
       "      <td>0.376035</td>\n",
       "      <td>0.301572</td>\n",
       "    </tr>\n",
       "    <tr>\n",
       "      <th>2022-09-27 02:23:18.378527</th>\n",
       "      <td>0.588683</td>\n",
       "      <td>0.509231</td>\n",
       "      <td>0.376035</td>\n",
       "    </tr>\n",
       "    <tr>\n",
       "      <th>2022-09-28 01:57:07.361279</th>\n",
       "      <td>0.682117</td>\n",
       "      <td>0.588683</td>\n",
       "      <td>0.509231</td>\n",
       "    </tr>\n",
       "    <tr>\n",
       "      <th>2022-09-29 01:30:56.336255</th>\n",
       "      <td>0.832353</td>\n",
       "      <td>0.682117</td>\n",
       "      <td>0.588683</td>\n",
       "    </tr>\n",
       "  </tbody>\n",
       "</table>\n",
       "<p>2385 rows × 3 columns</p>\n",
       "</div>"
      ],
      "text/plain": [
       "                            bmm_lag_1  bmm_lag_2  bmm_lag_3\n",
       "2016-03-04 15:21:16.747488        NaN        NaN        NaN\n",
       "2016-03-05 03:07:49.774079  -1.931994        NaN        NaN\n",
       "2016-03-06 02:41:39.264000  -2.060963  -1.931994        NaN\n",
       "2016-03-07 05:37:27.298272  -2.457633  -2.060963  -1.931994\n",
       "2016-03-08 03:30:17.538911  -2.591082  -2.457633  -2.060963\n",
       "...                               ...        ...        ...\n",
       "2022-09-25 03:15:40.345632   0.376035   0.301572   0.193902\n",
       "2022-09-26 04:30:28.587167   0.509231   0.376035   0.301572\n",
       "2022-09-27 02:23:18.378527   0.588683   0.509231   0.376035\n",
       "2022-09-28 01:57:07.361279   0.682117   0.588683   0.509231\n",
       "2022-09-29 01:30:56.336255   0.832353   0.682117   0.588683\n",
       "\n",
       "[2385 rows x 3 columns]"
      ]
     },
     "execution_count": 46,
     "metadata": {},
     "output_type": "execute_result"
    }
   ],
   "source": [
    "df_x"
   ]
  },
  {
   "cell_type": "markdown",
   "id": "c1b14e36856e1b13",
   "metadata": {},
   "source": [
    "We have to remove the first NUM_LAG_FEATURES rows since they contain NaNs"
   ]
  },
  {
   "cell_type": "code",
   "execution_count": 47,
   "id": "5c30750cedb9598e",
   "metadata": {
    "ExecuteTime": {
     "end_time": "2024-07-01T07:16:32.846754Z",
     "start_time": "2024-07-01T07:16:32.843268Z"
    }
   },
   "outputs": [],
   "source": [
    "df_x = df_x.iloc[NUM_LAG_FEATURES:]\n",
    "df_y = df_y.iloc[NUM_LAG_FEATURES:]"
   ]
  },
  {
   "cell_type": "markdown",
   "id": "65d10a5557f842c0",
   "metadata": {},
   "source": [
    "Do a train-test split on a particular time point"
   ]
  },
  {
   "cell_type": "code",
   "execution_count": 48,
   "id": "37e0d31e57828dba",
   "metadata": {
    "ExecuteTime": {
     "end_time": "2024-07-01T07:19:22.845511Z",
     "start_time": "2024-07-01T07:19:22.836951Z"
    }
   },
   "outputs": [],
   "source": [
    "STR_SPLIT_DATE = \"2021-01-01\"\n",
    "df_x_train = df_x[:STR_SPLIT_DATE]\n",
    "df_x_test = df_x[STR_SPLIT_DATE:]\n",
    "df_y_train = df_y[:STR_SPLIT_DATE]\n",
    "df_y_test = df_y[STR_SPLIT_DATE:]"
   ]
  },
  {
   "cell_type": "code",
   "execution_count": 49,
   "id": "9534da780e231c31",
   "metadata": {
    "ExecuteTime": {
     "end_time": "2024-07-01T07:19:23.549894Z",
     "start_time": "2024-07-01T07:19:23.530665Z"
    }
   },
   "outputs": [
    {
     "data": {
      "application/vnd.microsoft.datawrangler.viewer.v0+json": {
       "columns": [
        {
         "name": "index",
         "rawType": "datetime64[ns]",
         "type": "datetime"
        },
        {
         "name": "bmm_lag_1",
         "rawType": "float64",
         "type": "float"
        },
        {
         "name": "bmm_lag_2",
         "rawType": "float64",
         "type": "float"
        },
        {
         "name": "bmm_lag_3",
         "rawType": "float64",
         "type": "float"
        }
       ],
       "conversionMethod": "pd.DataFrame",
       "ref": "2c37bc64-7d89-43a3-9a09-96307473fb1a",
       "rows": [
        [
         "2016-03-07 05:37:27.298272",
         "-2.4576329820530374",
         "-2.06096301400005",
         "-1.9319935250228237"
        ],
        [
         "2016-03-08 03:30:17.538911",
         "-2.5910823560348906",
         "-2.4576329820530374",
         "-2.06096301400005"
        ],
        [
         "2016-03-09 03:04:06.551904",
         "-2.6011320890251266",
         "-2.5910823560348906",
         "-2.4576329820530374"
        ],
        [
         "2016-03-10 02:37:55.725600",
         "-1.6846820590638023",
         "-2.6011320890251266",
         "-2.5910823560348906"
        ],
        [
         "2016-03-11 02:11:44.990879",
         "-1.6846820590638023",
         "-1.6846820590638023",
         "-2.6011320890251266"
        ],
        [
         "2016-03-12 01:45:34.054847",
         "-1.3943306740454853",
         "-1.6846820590638023",
         "-1.6846820590638023"
        ],
        [
         "2016-03-13 01:19:23.002175",
         "-0.9130209660535016",
         "-1.3943306740454853",
         "-1.6846820590638023"
        ],
        [
         "2016-03-14 02:34:11.327519",
         "-0.7562327770244126",
         "-0.9130209660535016",
         "-1.3943306740454853"
        ],
        [
         "2016-03-15 02:08:00.378528",
         "-0.6412417140333471",
         "-0.7562327770244126",
         "-0.9130209660535016"
        ],
        [
         "2016-03-16 01:41:49.038144",
         "-0.3045821640040858",
         "-0.6412417140333471",
         "-0.7562327770244126"
        ],
        [
         "2016-03-17 01:15:37.568159",
         "0.02951942093543103",
         "-0.3045821640040858",
         "-0.6412417140333471"
        ],
        [
         "2016-03-18 02:30:25.763040",
         "0.5917742689626193",
         "0.02951942093543103",
         "-0.3045821640040858"
        ],
        [
         "2016-03-19 02:04:14.645568",
         "0.7722318539488127",
         "0.5917742689626193",
         "0.02951942093543103"
        ],
        [
         "2016-03-20 01:38:03.597216",
         "0.8573276489426407",
         "0.7722318539488127",
         "0.5917742689626193"
        ],
        [
         "2016-03-21 02:52:51.764448",
         "0.8964708759356954",
         "0.8573276489426407",
         "0.7722318539488127"
        ],
        [
         "2016-03-22 02:26:40.729055",
         "0.9626300999376891",
         "0.8964708759356954",
         "0.8573276489426407"
        ],
        [
         "2016-03-23 00:19:30.567071",
         "0.9509785369593571",
         "0.9626300999376891",
         "0.8964708759356954"
        ],
        [
         "2016-03-24 04:56:17.314080",
         "0.877790691938829",
         "0.9509785369593571",
         "0.9626300999376891"
        ],
        [
         "2016-03-25 01:08:08.025503",
         "0.7021769119625043",
         "0.877790691938829",
         "0.9509785369593571"
        ],
        [
         "2016-03-26 05:44:54.911616",
         "0.5439671380003119",
         "0.7021769119625043",
         "0.877790691938829"
        ],
        [
         "2016-03-27 05:18:44.117280",
         "0.33987879795305265",
         "0.5439671380003119",
         "0.7021769119625043"
        ],
        [
         "2016-03-28 04:52:33.309984",
         "0.18465431995962067",
         "0.33987879795305265",
         "0.5439671380003119"
        ],
        [
         "2016-03-29 01:04:23.997216",
         "0.05826807099318376",
         "0.18465431995962067",
         "0.33987879795305265"
        ],
        [
         "2016-03-30 05:41:10.822848",
         "-0.037531912022714664",
         "0.05826807099318376",
         "0.18465431995962067"
        ],
        [
         "2016-03-31 05:14:59.949024",
         "-0.12765205406606306",
         "-0.037531912022714664",
         "0.05826807099318376"
        ],
        [
         "2016-04-01 04:48:49.033728",
         "-0.16734147401109567",
         "-0.12765205406606306",
         "-0.037531912022714664"
        ],
        [
         "2016-04-02 04:22:38.088191",
         "-0.1643203180468067",
         "-0.16734147401109567",
         "-0.12765205406606306"
        ],
        [
         "2016-04-03 05:37:26.327135",
         "-0.11006777406175061",
         "-0.1643203180468067",
         "-0.16734147401109567"
        ],
        [
         "2016-04-04 01:49:16.919328",
         "0.0019711119542131783",
         "-0.11006777406175061",
         "-0.1643203180468067"
        ],
        [
         "2016-04-05 04:45:04.374719",
         "0.08011137496433118",
         "0.0019711119542131783",
         "-0.11006777406175061"
        ],
        [
         "2016-04-06 04:18:53.427455",
         "0.13716818798858998",
         "0.08011137496433118",
         "0.0019711119542131783"
        ],
        [
         "2016-04-07 05:33:41.682816",
         "0.17474493997637897",
         "0.13716818798858998",
         "0.08011137496433118"
        ],
        [
         "2016-04-08 05:07:30.637920",
         "0.22473842099801633",
         "0.17474493997637897",
         "0.13716818798858998"
        ],
        [
         "2016-04-09 04:41:19.670784",
         "0.31012497396509797",
         "0.22473842099801633",
         "0.17474493997637897"
        ],
        [
         "2016-04-10 04:15:08.680320",
         "0.35574877293997886",
         "0.31012497396509797",
         "0.22473842099801633"
        ],
        [
         "2016-04-11 03:48:57.686399",
         "0.39569222197444187",
         "0.35574877293997886",
         "0.31012497396509797"
        ],
        [
         "2016-04-12 03:22:46.677791",
         "0.44910882797399854",
         "0.39569222197444187",
         "0.35574877293997886"
        ],
        [
         "2016-04-13 04:37:34.883040",
         "0.507221602982777",
         "0.44910882797399854",
         "0.39569222197444187"
        ],
        [
         "2016-04-14 00:49:25.430303",
         "0.5607104849869593",
         "0.507221602982777",
         "0.44910882797399854"
        ],
        [
         "2016-04-15 03:45:12.734496",
         "0.6144544769520754",
         "0.5607104849869593",
         "0.507221602982777"
        ],
        [
         "2016-04-16 03:19:01.563456",
         "0.7738657899908352",
         "0.6144544769520754",
         "0.5607104849869593"
        ],
        [
         "2016-04-17 04:33:49.580351",
         "0.9359707079520385",
         "0.7738657899908352",
         "0.6144544769520754"
        ],
        [
         "2016-04-18 04:07:38.361792",
         "1.1126061139760113",
         "0.9359707079520385",
         "0.7738657899908352"
        ],
        [
         "2016-04-19 02:00:27.940608",
         "1.2576719539414416",
         "1.1126061139760113",
         "0.9359707079520385"
        ],
        [
         "2016-04-20 04:56:15.082368",
         "1.4044867289314533",
         "1.2576719539414416",
         "1.1126061139760113"
        ],
        [
         "2016-04-21 01:08:05.578655",
         "1.6005591829681975",
         "1.4044867289314533",
         "1.2576719539414416"
        ],
        [
         "2016-04-22 04:03:53.126496",
         "1.5627605859380722",
         "1.6005591829681975",
         "1.4044867289314533"
        ],
        [
         "2016-04-23 03:37:42.347712",
         "1.3882724139713254",
         "1.5627605859380722",
         "1.6005591829681975"
        ],
        [
         "2016-04-24 04:52:30.826847",
         "1.0582343149684315",
         "1.3882724139713254",
         "1.5627605859380722"
        ],
        [
         "2016-04-25 04:26:20.232095",
         "0.6338168279801382",
         "1.0582343149684315",
         "1.3882724139713254"
        ]
       ],
       "shape": {
        "columns": 3,
        "rows": 1751
       }
      },
      "text/html": [
       "<div>\n",
       "<style scoped>\n",
       "    .dataframe tbody tr th:only-of-type {\n",
       "        vertical-align: middle;\n",
       "    }\n",
       "\n",
       "    .dataframe tbody tr th {\n",
       "        vertical-align: top;\n",
       "    }\n",
       "\n",
       "    .dataframe thead th {\n",
       "        text-align: right;\n",
       "    }\n",
       "</style>\n",
       "<table border=\"1\" class=\"dataframe\">\n",
       "  <thead>\n",
       "    <tr style=\"text-align: right;\">\n",
       "      <th></th>\n",
       "      <th>bmm_lag_1</th>\n",
       "      <th>bmm_lag_2</th>\n",
       "      <th>bmm_lag_3</th>\n",
       "    </tr>\n",
       "  </thead>\n",
       "  <tbody>\n",
       "    <tr>\n",
       "      <th>2016-03-07 05:37:27.298272</th>\n",
       "      <td>-2.457633</td>\n",
       "      <td>-2.060963</td>\n",
       "      <td>-1.931994</td>\n",
       "    </tr>\n",
       "    <tr>\n",
       "      <th>2016-03-08 03:30:17.538911</th>\n",
       "      <td>-2.591082</td>\n",
       "      <td>-2.457633</td>\n",
       "      <td>-2.060963</td>\n",
       "    </tr>\n",
       "    <tr>\n",
       "      <th>2016-03-09 03:04:06.551904</th>\n",
       "      <td>-2.601132</td>\n",
       "      <td>-2.591082</td>\n",
       "      <td>-2.457633</td>\n",
       "    </tr>\n",
       "    <tr>\n",
       "      <th>2016-03-10 02:37:55.725600</th>\n",
       "      <td>-1.684682</td>\n",
       "      <td>-2.601132</td>\n",
       "      <td>-2.591082</td>\n",
       "    </tr>\n",
       "    <tr>\n",
       "      <th>2016-03-11 02:11:44.990879</th>\n",
       "      <td>-1.684682</td>\n",
       "      <td>-1.684682</td>\n",
       "      <td>-2.601132</td>\n",
       "    </tr>\n",
       "    <tr>\n",
       "      <th>...</th>\n",
       "      <td>...</td>\n",
       "      <td>...</td>\n",
       "      <td>...</td>\n",
       "    </tr>\n",
       "    <tr>\n",
       "      <th>2020-12-28 04:45:19.642464</th>\n",
       "      <td>-1.967718</td>\n",
       "      <td>-2.016585</td>\n",
       "      <td>-2.054344</td>\n",
       "    </tr>\n",
       "    <tr>\n",
       "      <th>2020-12-29 04:19:08.982912</th>\n",
       "      <td>-1.922347</td>\n",
       "      <td>-1.967718</td>\n",
       "      <td>-2.016585</td>\n",
       "    </tr>\n",
       "    <tr>\n",
       "      <th>2020-12-30 03:52:58.312992</th>\n",
       "      <td>-1.870859</td>\n",
       "      <td>-1.922347</td>\n",
       "      <td>-1.967718</td>\n",
       "    </tr>\n",
       "    <tr>\n",
       "      <th>2020-12-31 03:26:47.637023</th>\n",
       "      <td>-1.816313</td>\n",
       "      <td>-1.870859</td>\n",
       "      <td>-1.922347</td>\n",
       "    </tr>\n",
       "    <tr>\n",
       "      <th>2021-01-01 04:41:36.193919</th>\n",
       "      <td>-1.759581</td>\n",
       "      <td>-1.816313</td>\n",
       "      <td>-1.870859</td>\n",
       "    </tr>\n",
       "  </tbody>\n",
       "</table>\n",
       "<p>1751 rows × 3 columns</p>\n",
       "</div>"
      ],
      "text/plain": [
       "                            bmm_lag_1  bmm_lag_2  bmm_lag_3\n",
       "2016-03-07 05:37:27.298272  -2.457633  -2.060963  -1.931994\n",
       "2016-03-08 03:30:17.538911  -2.591082  -2.457633  -2.060963\n",
       "2016-03-09 03:04:06.551904  -2.601132  -2.591082  -2.457633\n",
       "2016-03-10 02:37:55.725600  -1.684682  -2.601132  -2.591082\n",
       "2016-03-11 02:11:44.990879  -1.684682  -1.684682  -2.601132\n",
       "...                               ...        ...        ...\n",
       "2020-12-28 04:45:19.642464  -1.967718  -2.016585  -2.054344\n",
       "2020-12-29 04:19:08.982912  -1.922347  -1.967718  -2.016585\n",
       "2020-12-30 03:52:58.312992  -1.870859  -1.922347  -1.967718\n",
       "2020-12-31 03:26:47.637023  -1.816313  -1.870859  -1.922347\n",
       "2021-01-01 04:41:36.193919  -1.759581  -1.816313  -1.870859\n",
       "\n",
       "[1751 rows x 3 columns]"
      ]
     },
     "execution_count": 49,
     "metadata": {},
     "output_type": "execute_result"
    }
   ],
   "source": [
    "df_x_train"
   ]
  },
  {
   "cell_type": "code",
   "execution_count": 50,
   "id": "d844b9fea9db58f6",
   "metadata": {
    "ExecuteTime": {
     "end_time": "2024-07-01T07:19:26.707515Z",
     "start_time": "2024-07-01T07:19:26.700089Z"
    }
   },
   "outputs": [
    {
     "data": {
      "application/vnd.microsoft.datawrangler.viewer.v0+json": {
       "columns": [
        {
         "name": "index",
         "rawType": "datetime64[ns]",
         "type": "datetime"
        },
        {
         "name": "Brouwer mean motion",
         "rawType": "float64",
         "type": "float"
        }
       ],
       "conversionMethod": "pd.DataFrame",
       "ref": "3e7c28ed-7333-4b50-9666-df9686724bdf",
       "rows": [
        [
         "2016-03-07 05:37:27.298272",
         "-2.5910823560348906"
        ],
        [
         "2016-03-08 03:30:17.538911",
         "-2.6011320890251266"
        ],
        [
         "2016-03-09 03:04:06.551904",
         "-1.6846820590638023"
        ],
        [
         "2016-03-10 02:37:55.725600",
         "-1.6846820590638023"
        ],
        [
         "2016-03-11 02:11:44.990879",
         "-1.3943306740454853"
        ],
        [
         "2016-03-12 01:45:34.054847",
         "-0.9130209660535016"
        ],
        [
         "2016-03-13 01:19:23.002175",
         "-0.7562327770244126"
        ],
        [
         "2016-03-14 02:34:11.327519",
         "-0.6412417140333471"
        ],
        [
         "2016-03-15 02:08:00.378528",
         "-0.3045821640040858"
        ],
        [
         "2016-03-16 01:41:49.038144",
         "0.02951942093543103"
        ],
        [
         "2016-03-17 01:15:37.568159",
         "0.5917742689626193"
        ],
        [
         "2016-03-18 02:30:25.763040",
         "0.7722318539488127"
        ],
        [
         "2016-03-19 02:04:14.645568",
         "0.8573276489426407"
        ],
        [
         "2016-03-20 01:38:03.597216",
         "0.8964708759356954"
        ],
        [
         "2016-03-21 02:52:51.764448",
         "0.9626300999376891"
        ],
        [
         "2016-03-22 02:26:40.729055",
         "0.9509785369593571"
        ],
        [
         "2016-03-23 00:19:30.567071",
         "0.877790691938829"
        ],
        [
         "2016-03-24 04:56:17.314080",
         "0.7021769119625043"
        ],
        [
         "2016-03-25 01:08:08.025503",
         "0.5439671380003119"
        ],
        [
         "2016-03-26 05:44:54.911616",
         "0.33987879795305265"
        ],
        [
         "2016-03-27 05:18:44.117280",
         "0.18465431995962067"
        ],
        [
         "2016-03-28 04:52:33.309984",
         "0.05826807099318376"
        ],
        [
         "2016-03-29 01:04:23.997216",
         "-0.037531912022714664"
        ],
        [
         "2016-03-30 05:41:10.822848",
         "-0.12765205406606306"
        ],
        [
         "2016-03-31 05:14:59.949024",
         "-0.16734147401109567"
        ],
        [
         "2016-04-01 04:48:49.033728",
         "-0.1643203180468067"
        ],
        [
         "2016-04-02 04:22:38.088191",
         "-0.11006777406175061"
        ],
        [
         "2016-04-03 05:37:26.327135",
         "0.0019711119542131783"
        ],
        [
         "2016-04-04 01:49:16.919328",
         "0.08011137496433118"
        ],
        [
         "2016-04-05 04:45:04.374719",
         "0.13716818798858998"
        ],
        [
         "2016-04-06 04:18:53.427455",
         "0.17474493997637897"
        ],
        [
         "2016-04-07 05:33:41.682816",
         "0.22473842099801633"
        ],
        [
         "2016-04-08 05:07:30.637920",
         "0.31012497396509797"
        ],
        [
         "2016-04-09 04:41:19.670784",
         "0.35574877293997886"
        ],
        [
         "2016-04-10 04:15:08.680320",
         "0.39569222197444187"
        ],
        [
         "2016-04-11 03:48:57.686399",
         "0.44910882797399854"
        ],
        [
         "2016-04-12 03:22:46.677791",
         "0.507221602982777"
        ],
        [
         "2016-04-13 04:37:34.883040",
         "0.5607104849869593"
        ],
        [
         "2016-04-14 00:49:25.430303",
         "0.6144544769520754"
        ],
        [
         "2016-04-15 03:45:12.734496",
         "0.7738657899908352"
        ],
        [
         "2016-04-16 03:19:01.563456",
         "0.9359707079520385"
        ],
        [
         "2016-04-17 04:33:49.580351",
         "1.1126061139760113"
        ],
        [
         "2016-04-18 04:07:38.361792",
         "1.2576719539414416"
        ],
        [
         "2016-04-19 02:00:27.940608",
         "1.4044867289314533"
        ],
        [
         "2016-04-20 04:56:15.082368",
         "1.6005591829681975"
        ],
        [
         "2016-04-21 01:08:05.578655",
         "1.5627605859380722"
        ],
        [
         "2016-04-22 04:03:53.126496",
         "1.3882724139713254"
        ],
        [
         "2016-04-23 03:37:42.347712",
         "1.0582343149684315"
        ],
        [
         "2016-04-24 04:52:30.826847",
         "0.6338168279801382"
        ],
        [
         "2016-04-25 04:26:20.232095",
         "0.18179819698260768"
        ]
       ],
       "shape": {
        "columns": 1,
        "rows": 1751
       }
      },
      "text/html": [
       "<div>\n",
       "<style scoped>\n",
       "    .dataframe tbody tr th:only-of-type {\n",
       "        vertical-align: middle;\n",
       "    }\n",
       "\n",
       "    .dataframe tbody tr th {\n",
       "        vertical-align: top;\n",
       "    }\n",
       "\n",
       "    .dataframe thead th {\n",
       "        text-align: right;\n",
       "    }\n",
       "</style>\n",
       "<table border=\"1\" class=\"dataframe\">\n",
       "  <thead>\n",
       "    <tr style=\"text-align: right;\">\n",
       "      <th></th>\n",
       "      <th>Brouwer mean motion</th>\n",
       "    </tr>\n",
       "  </thead>\n",
       "  <tbody>\n",
       "    <tr>\n",
       "      <th>2016-03-07 05:37:27.298272</th>\n",
       "      <td>-2.591082</td>\n",
       "    </tr>\n",
       "    <tr>\n",
       "      <th>2016-03-08 03:30:17.538911</th>\n",
       "      <td>-2.601132</td>\n",
       "    </tr>\n",
       "    <tr>\n",
       "      <th>2016-03-09 03:04:06.551904</th>\n",
       "      <td>-1.684682</td>\n",
       "    </tr>\n",
       "    <tr>\n",
       "      <th>2016-03-10 02:37:55.725600</th>\n",
       "      <td>-1.684682</td>\n",
       "    </tr>\n",
       "    <tr>\n",
       "      <th>2016-03-11 02:11:44.990879</th>\n",
       "      <td>-1.394331</td>\n",
       "    </tr>\n",
       "    <tr>\n",
       "      <th>...</th>\n",
       "      <td>...</td>\n",
       "    </tr>\n",
       "    <tr>\n",
       "      <th>2020-12-28 04:45:19.642464</th>\n",
       "      <td>-1.922347</td>\n",
       "    </tr>\n",
       "    <tr>\n",
       "      <th>2020-12-29 04:19:08.982912</th>\n",
       "      <td>-1.870859</td>\n",
       "    </tr>\n",
       "    <tr>\n",
       "      <th>2020-12-30 03:52:58.312992</th>\n",
       "      <td>-1.816313</td>\n",
       "    </tr>\n",
       "    <tr>\n",
       "      <th>2020-12-31 03:26:47.637023</th>\n",
       "      <td>-1.759581</td>\n",
       "    </tr>\n",
       "    <tr>\n",
       "      <th>2021-01-01 04:41:36.193919</th>\n",
       "      <td>-1.707840</td>\n",
       "    </tr>\n",
       "  </tbody>\n",
       "</table>\n",
       "<p>1751 rows × 1 columns</p>\n",
       "</div>"
      ],
      "text/plain": [
       "                            Brouwer mean motion\n",
       "2016-03-07 05:37:27.298272            -2.591082\n",
       "2016-03-08 03:30:17.538911            -2.601132\n",
       "2016-03-09 03:04:06.551904            -1.684682\n",
       "2016-03-10 02:37:55.725600            -1.684682\n",
       "2016-03-11 02:11:44.990879            -1.394331\n",
       "...                                         ...\n",
       "2020-12-28 04:45:19.642464            -1.922347\n",
       "2020-12-29 04:19:08.982912            -1.870859\n",
       "2020-12-30 03:52:58.312992            -1.816313\n",
       "2020-12-31 03:26:47.637023            -1.759581\n",
       "2021-01-01 04:41:36.193919            -1.707840\n",
       "\n",
       "[1751 rows x 1 columns]"
      ]
     },
     "execution_count": 50,
     "metadata": {},
     "output_type": "execute_result"
    }
   ],
   "source": [
    "df_y_train"
   ]
  },
  {
   "cell_type": "markdown",
   "id": "61aebf053086cdcf",
   "metadata": {},
   "source": [
    "Set up the XGBoost regressor and fit it to the training data. Early stopping is performed based on evaluation on the test data."
   ]
  },
  {
   "cell_type": "code",
   "execution_count": 51,
   "id": "b621acb71fe66c18",
   "metadata": {
    "ExecuteTime": {
     "end_time": "2024-07-01T07:24:35.760384Z",
     "start_time": "2024-07-01T07:24:35.238909Z"
    }
   },
   "outputs": [
    {
     "name": "stdout",
     "output_type": "stream",
     "text": [
      "[0]\tvalidation_0-mae:0.75822\tvalidation_1-mae:0.86704\n",
      "[1]\tvalidation_0-mae:0.69473\tvalidation_1-mae:0.80040\n",
      "[2]\tvalidation_0-mae:0.63310\tvalidation_1-mae:0.73713\n",
      "[3]\tvalidation_0-mae:0.58003\tvalidation_1-mae:0.68199\n",
      "[4]\tvalidation_0-mae:0.53066\tvalidation_1-mae:0.63178\n",
      "[5]\tvalidation_0-mae:0.48711\tvalidation_1-mae:0.58714\n",
      "[6]\tvalidation_0-mae:0.44697\tvalidation_1-mae:0.54653\n",
      "[7]\tvalidation_0-mae:0.41265\tvalidation_1-mae:0.51087\n",
      "[8]\tvalidation_0-mae:0.38150\tvalidation_1-mae:0.47731\n",
      "[9]\tvalidation_0-mae:0.35211\tvalidation_1-mae:0.44672\n",
      "[10]\tvalidation_0-mae:0.32525\tvalidation_1-mae:0.41944\n",
      "[11]\tvalidation_0-mae:0.30332\tvalidation_1-mae:0.39610\n",
      "[12]\tvalidation_0-mae:0.28212\tvalidation_1-mae:0.37410\n",
      "[13]\tvalidation_0-mae:0.26480\tvalidation_1-mae:0.35506\n",
      "[14]\tvalidation_0-mae:0.24770\tvalidation_1-mae:0.33717\n",
      "[15]\tvalidation_0-mae:0.23208\tvalidation_1-mae:0.32081\n",
      "[16]\tvalidation_0-mae:0.21984\tvalidation_1-mae:0.30640\n",
      "[17]\tvalidation_0-mae:0.20748\tvalidation_1-mae:0.29362\n",
      "[18]\tvalidation_0-mae:0.19739\tvalidation_1-mae:0.28185\n",
      "[19]\tvalidation_0-mae:0.18760\tvalidation_1-mae:0.27166\n",
      "[20]\tvalidation_0-mae:0.17846\tvalidation_1-mae:0.26124\n",
      "[21]\tvalidation_0-mae:0.17047\tvalidation_1-mae:0.25277\n",
      "[22]\tvalidation_0-mae:0.16334\tvalidation_1-mae:0.24445\n",
      "[23]\tvalidation_0-mae:0.15739\tvalidation_1-mae:0.23731\n",
      "[24]\tvalidation_0-mae:0.15108\tvalidation_1-mae:0.23051\n",
      "[25]\tvalidation_0-mae:0.14591\tvalidation_1-mae:0.22468\n",
      "[26]\tvalidation_0-mae:0.14085\tvalidation_1-mae:0.21948\n",
      "[27]\tvalidation_0-mae:0.13675\tvalidation_1-mae:0.21466\n",
      "[28]\tvalidation_0-mae:0.13241\tvalidation_1-mae:0.21027\n",
      "[29]\tvalidation_0-mae:0.12930\tvalidation_1-mae:0.20703\n",
      "[30]\tvalidation_0-mae:0.12604\tvalidation_1-mae:0.20366\n",
      "[31]\tvalidation_0-mae:0.12355\tvalidation_1-mae:0.20056\n",
      "[32]\tvalidation_0-mae:0.12064\tvalidation_1-mae:0.19769\n",
      "[33]\tvalidation_0-mae:0.11862\tvalidation_1-mae:0.19546\n",
      "[34]\tvalidation_0-mae:0.11647\tvalidation_1-mae:0.19330\n",
      "[35]\tvalidation_0-mae:0.11485\tvalidation_1-mae:0.19116\n",
      "[36]\tvalidation_0-mae:0.11417\tvalidation_1-mae:0.19035\n",
      "[37]\tvalidation_0-mae:0.11273\tvalidation_1-mae:0.18890\n",
      "[38]\tvalidation_0-mae:0.11159\tvalidation_1-mae:0.18727\n",
      "[39]\tvalidation_0-mae:0.11008\tvalidation_1-mae:0.18577\n",
      "[40]\tvalidation_0-mae:0.10977\tvalidation_1-mae:0.18577\n",
      "[41]\tvalidation_0-mae:0.10869\tvalidation_1-mae:0.18481\n",
      "[42]\tvalidation_0-mae:0.10832\tvalidation_1-mae:0.18445\n",
      "[43]\tvalidation_0-mae:0.10728\tvalidation_1-mae:0.18345\n",
      "[44]\tvalidation_0-mae:0.10624\tvalidation_1-mae:0.18242\n",
      "[45]\tvalidation_0-mae:0.10599\tvalidation_1-mae:0.18243\n",
      "[46]\tvalidation_0-mae:0.10508\tvalidation_1-mae:0.18166\n",
      "[47]\tvalidation_0-mae:0.10415\tvalidation_1-mae:0.18093\n",
      "[48]\tvalidation_0-mae:0.10386\tvalidation_1-mae:0.18069\n",
      "[49]\tvalidation_0-mae:0.10312\tvalidation_1-mae:0.17989\n",
      "[50]\tvalidation_0-mae:0.10279\tvalidation_1-mae:0.18105\n",
      "[51]\tvalidation_0-mae:0.10249\tvalidation_1-mae:0.18217\n",
      "[52]\tvalidation_0-mae:0.10211\tvalidation_1-mae:0.18199\n",
      "[53]\tvalidation_0-mae:0.10151\tvalidation_1-mae:0.18179\n",
      "[54]\tvalidation_0-mae:0.10117\tvalidation_1-mae:0.18231\n",
      "[55]\tvalidation_0-mae:0.10113\tvalidation_1-mae:0.18304\n",
      "[56]\tvalidation_0-mae:0.10099\tvalidation_1-mae:0.18309\n",
      "[57]\tvalidation_0-mae:0.10084\tvalidation_1-mae:0.18287\n",
      "[58]\tvalidation_0-mae:0.10057\tvalidation_1-mae:0.18260\n",
      "[59]\tvalidation_0-mae:0.10045\tvalidation_1-mae:0.18264\n"
     ]
    },
    {
     "data": {
      "text/html": [
       "<style>#sk-container-id-2 {\n",
       "  /* Definition of color scheme common for light and dark mode */\n",
       "  --sklearn-color-text: #000;\n",
       "  --sklearn-color-text-muted: #666;\n",
       "  --sklearn-color-line: gray;\n",
       "  /* Definition of color scheme for unfitted estimators */\n",
       "  --sklearn-color-unfitted-level-0: #fff5e6;\n",
       "  --sklearn-color-unfitted-level-1: #f6e4d2;\n",
       "  --sklearn-color-unfitted-level-2: #ffe0b3;\n",
       "  --sklearn-color-unfitted-level-3: chocolate;\n",
       "  /* Definition of color scheme for fitted estimators */\n",
       "  --sklearn-color-fitted-level-0: #f0f8ff;\n",
       "  --sklearn-color-fitted-level-1: #d4ebff;\n",
       "  --sklearn-color-fitted-level-2: #b3dbfd;\n",
       "  --sklearn-color-fitted-level-3: cornflowerblue;\n",
       "\n",
       "  /* Specific color for light theme */\n",
       "  --sklearn-color-text-on-default-background: var(--sg-text-color, var(--theme-code-foreground, var(--jp-content-font-color1, black)));\n",
       "  --sklearn-color-background: var(--sg-background-color, var(--theme-background, var(--jp-layout-color0, white)));\n",
       "  --sklearn-color-border-box: var(--sg-text-color, var(--theme-code-foreground, var(--jp-content-font-color1, black)));\n",
       "  --sklearn-color-icon: #696969;\n",
       "\n",
       "  @media (prefers-color-scheme: dark) {\n",
       "    /* Redefinition of color scheme for dark theme */\n",
       "    --sklearn-color-text-on-default-background: var(--sg-text-color, var(--theme-code-foreground, var(--jp-content-font-color1, white)));\n",
       "    --sklearn-color-background: var(--sg-background-color, var(--theme-background, var(--jp-layout-color0, #111)));\n",
       "    --sklearn-color-border-box: var(--sg-text-color, var(--theme-code-foreground, var(--jp-content-font-color1, white)));\n",
       "    --sklearn-color-icon: #878787;\n",
       "  }\n",
       "}\n",
       "\n",
       "#sk-container-id-2 {\n",
       "  color: var(--sklearn-color-text);\n",
       "}\n",
       "\n",
       "#sk-container-id-2 pre {\n",
       "  padding: 0;\n",
       "}\n",
       "\n",
       "#sk-container-id-2 input.sk-hidden--visually {\n",
       "  border: 0;\n",
       "  clip: rect(1px 1px 1px 1px);\n",
       "  clip: rect(1px, 1px, 1px, 1px);\n",
       "  height: 1px;\n",
       "  margin: -1px;\n",
       "  overflow: hidden;\n",
       "  padding: 0;\n",
       "  position: absolute;\n",
       "  width: 1px;\n",
       "}\n",
       "\n",
       "#sk-container-id-2 div.sk-dashed-wrapped {\n",
       "  border: 1px dashed var(--sklearn-color-line);\n",
       "  margin: 0 0.4em 0.5em 0.4em;\n",
       "  box-sizing: border-box;\n",
       "  padding-bottom: 0.4em;\n",
       "  background-color: var(--sklearn-color-background);\n",
       "}\n",
       "\n",
       "#sk-container-id-2 div.sk-container {\n",
       "  /* jupyter's `normalize.less` sets `[hidden] { display: none; }`\n",
       "     but bootstrap.min.css set `[hidden] { display: none !important; }`\n",
       "     so we also need the `!important` here to be able to override the\n",
       "     default hidden behavior on the sphinx rendered scikit-learn.org.\n",
       "     See: https://github.com/scikit-learn/scikit-learn/issues/21755 */\n",
       "  display: inline-block !important;\n",
       "  position: relative;\n",
       "}\n",
       "\n",
       "#sk-container-id-2 div.sk-text-repr-fallback {\n",
       "  display: none;\n",
       "}\n",
       "\n",
       "div.sk-parallel-item,\n",
       "div.sk-serial,\n",
       "div.sk-item {\n",
       "  /* draw centered vertical line to link estimators */\n",
       "  background-image: linear-gradient(var(--sklearn-color-text-on-default-background), var(--sklearn-color-text-on-default-background));\n",
       "  background-size: 2px 100%;\n",
       "  background-repeat: no-repeat;\n",
       "  background-position: center center;\n",
       "}\n",
       "\n",
       "/* Parallel-specific style estimator block */\n",
       "\n",
       "#sk-container-id-2 div.sk-parallel-item::after {\n",
       "  content: \"\";\n",
       "  width: 100%;\n",
       "  border-bottom: 2px solid var(--sklearn-color-text-on-default-background);\n",
       "  flex-grow: 1;\n",
       "}\n",
       "\n",
       "#sk-container-id-2 div.sk-parallel {\n",
       "  display: flex;\n",
       "  align-items: stretch;\n",
       "  justify-content: center;\n",
       "  background-color: var(--sklearn-color-background);\n",
       "  position: relative;\n",
       "}\n",
       "\n",
       "#sk-container-id-2 div.sk-parallel-item {\n",
       "  display: flex;\n",
       "  flex-direction: column;\n",
       "}\n",
       "\n",
       "#sk-container-id-2 div.sk-parallel-item:first-child::after {\n",
       "  align-self: flex-end;\n",
       "  width: 50%;\n",
       "}\n",
       "\n",
       "#sk-container-id-2 div.sk-parallel-item:last-child::after {\n",
       "  align-self: flex-start;\n",
       "  width: 50%;\n",
       "}\n",
       "\n",
       "#sk-container-id-2 div.sk-parallel-item:only-child::after {\n",
       "  width: 0;\n",
       "}\n",
       "\n",
       "/* Serial-specific style estimator block */\n",
       "\n",
       "#sk-container-id-2 div.sk-serial {\n",
       "  display: flex;\n",
       "  flex-direction: column;\n",
       "  align-items: center;\n",
       "  background-color: var(--sklearn-color-background);\n",
       "  padding-right: 1em;\n",
       "  padding-left: 1em;\n",
       "}\n",
       "\n",
       "\n",
       "/* Toggleable style: style used for estimator/Pipeline/ColumnTransformer box that is\n",
       "clickable and can be expanded/collapsed.\n",
       "- Pipeline and ColumnTransformer use this feature and define the default style\n",
       "- Estimators will overwrite some part of the style using the `sk-estimator` class\n",
       "*/\n",
       "\n",
       "/* Pipeline and ColumnTransformer style (default) */\n",
       "\n",
       "#sk-container-id-2 div.sk-toggleable {\n",
       "  /* Default theme specific background. It is overwritten whether we have a\n",
       "  specific estimator or a Pipeline/ColumnTransformer */\n",
       "  background-color: var(--sklearn-color-background);\n",
       "}\n",
       "\n",
       "/* Toggleable label */\n",
       "#sk-container-id-2 label.sk-toggleable__label {\n",
       "  cursor: pointer;\n",
       "  display: flex;\n",
       "  width: 100%;\n",
       "  margin-bottom: 0;\n",
       "  padding: 0.5em;\n",
       "  box-sizing: border-box;\n",
       "  text-align: center;\n",
       "  align-items: start;\n",
       "  justify-content: space-between;\n",
       "  gap: 0.5em;\n",
       "}\n",
       "\n",
       "#sk-container-id-2 label.sk-toggleable__label .caption {\n",
       "  font-size: 0.6rem;\n",
       "  font-weight: lighter;\n",
       "  color: var(--sklearn-color-text-muted);\n",
       "}\n",
       "\n",
       "#sk-container-id-2 label.sk-toggleable__label-arrow:before {\n",
       "  /* Arrow on the left of the label */\n",
       "  content: \"▸\";\n",
       "  float: left;\n",
       "  margin-right: 0.25em;\n",
       "  color: var(--sklearn-color-icon);\n",
       "}\n",
       "\n",
       "#sk-container-id-2 label.sk-toggleable__label-arrow:hover:before {\n",
       "  color: var(--sklearn-color-text);\n",
       "}\n",
       "\n",
       "/* Toggleable content - dropdown */\n",
       "\n",
       "#sk-container-id-2 div.sk-toggleable__content {\n",
       "  max-height: 0;\n",
       "  max-width: 0;\n",
       "  overflow: hidden;\n",
       "  text-align: left;\n",
       "  /* unfitted */\n",
       "  background-color: var(--sklearn-color-unfitted-level-0);\n",
       "}\n",
       "\n",
       "#sk-container-id-2 div.sk-toggleable__content.fitted {\n",
       "  /* fitted */\n",
       "  background-color: var(--sklearn-color-fitted-level-0);\n",
       "}\n",
       "\n",
       "#sk-container-id-2 div.sk-toggleable__content pre {\n",
       "  margin: 0.2em;\n",
       "  border-radius: 0.25em;\n",
       "  color: var(--sklearn-color-text);\n",
       "  /* unfitted */\n",
       "  background-color: var(--sklearn-color-unfitted-level-0);\n",
       "}\n",
       "\n",
       "#sk-container-id-2 div.sk-toggleable__content.fitted pre {\n",
       "  /* unfitted */\n",
       "  background-color: var(--sklearn-color-fitted-level-0);\n",
       "}\n",
       "\n",
       "#sk-container-id-2 input.sk-toggleable__control:checked~div.sk-toggleable__content {\n",
       "  /* Expand drop-down */\n",
       "  max-height: 200px;\n",
       "  max-width: 100%;\n",
       "  overflow: auto;\n",
       "}\n",
       "\n",
       "#sk-container-id-2 input.sk-toggleable__control:checked~label.sk-toggleable__label-arrow:before {\n",
       "  content: \"▾\";\n",
       "}\n",
       "\n",
       "/* Pipeline/ColumnTransformer-specific style */\n",
       "\n",
       "#sk-container-id-2 div.sk-label input.sk-toggleable__control:checked~label.sk-toggleable__label {\n",
       "  color: var(--sklearn-color-text);\n",
       "  background-color: var(--sklearn-color-unfitted-level-2);\n",
       "}\n",
       "\n",
       "#sk-container-id-2 div.sk-label.fitted input.sk-toggleable__control:checked~label.sk-toggleable__label {\n",
       "  background-color: var(--sklearn-color-fitted-level-2);\n",
       "}\n",
       "\n",
       "/* Estimator-specific style */\n",
       "\n",
       "/* Colorize estimator box */\n",
       "#sk-container-id-2 div.sk-estimator input.sk-toggleable__control:checked~label.sk-toggleable__label {\n",
       "  /* unfitted */\n",
       "  background-color: var(--sklearn-color-unfitted-level-2);\n",
       "}\n",
       "\n",
       "#sk-container-id-2 div.sk-estimator.fitted input.sk-toggleable__control:checked~label.sk-toggleable__label {\n",
       "  /* fitted */\n",
       "  background-color: var(--sklearn-color-fitted-level-2);\n",
       "}\n",
       "\n",
       "#sk-container-id-2 div.sk-label label.sk-toggleable__label,\n",
       "#sk-container-id-2 div.sk-label label {\n",
       "  /* The background is the default theme color */\n",
       "  color: var(--sklearn-color-text-on-default-background);\n",
       "}\n",
       "\n",
       "/* On hover, darken the color of the background */\n",
       "#sk-container-id-2 div.sk-label:hover label.sk-toggleable__label {\n",
       "  color: var(--sklearn-color-text);\n",
       "  background-color: var(--sklearn-color-unfitted-level-2);\n",
       "}\n",
       "\n",
       "/* Label box, darken color on hover, fitted */\n",
       "#sk-container-id-2 div.sk-label.fitted:hover label.sk-toggleable__label.fitted {\n",
       "  color: var(--sklearn-color-text);\n",
       "  background-color: var(--sklearn-color-fitted-level-2);\n",
       "}\n",
       "\n",
       "/* Estimator label */\n",
       "\n",
       "#sk-container-id-2 div.sk-label label {\n",
       "  font-family: monospace;\n",
       "  font-weight: bold;\n",
       "  display: inline-block;\n",
       "  line-height: 1.2em;\n",
       "}\n",
       "\n",
       "#sk-container-id-2 div.sk-label-container {\n",
       "  text-align: center;\n",
       "}\n",
       "\n",
       "/* Estimator-specific */\n",
       "#sk-container-id-2 div.sk-estimator {\n",
       "  font-family: monospace;\n",
       "  border: 1px dotted var(--sklearn-color-border-box);\n",
       "  border-radius: 0.25em;\n",
       "  box-sizing: border-box;\n",
       "  margin-bottom: 0.5em;\n",
       "  /* unfitted */\n",
       "  background-color: var(--sklearn-color-unfitted-level-0);\n",
       "}\n",
       "\n",
       "#sk-container-id-2 div.sk-estimator.fitted {\n",
       "  /* fitted */\n",
       "  background-color: var(--sklearn-color-fitted-level-0);\n",
       "}\n",
       "\n",
       "/* on hover */\n",
       "#sk-container-id-2 div.sk-estimator:hover {\n",
       "  /* unfitted */\n",
       "  background-color: var(--sklearn-color-unfitted-level-2);\n",
       "}\n",
       "\n",
       "#sk-container-id-2 div.sk-estimator.fitted:hover {\n",
       "  /* fitted */\n",
       "  background-color: var(--sklearn-color-fitted-level-2);\n",
       "}\n",
       "\n",
       "/* Specification for estimator info (e.g. \"i\" and \"?\") */\n",
       "\n",
       "/* Common style for \"i\" and \"?\" */\n",
       "\n",
       ".sk-estimator-doc-link,\n",
       "a:link.sk-estimator-doc-link,\n",
       "a:visited.sk-estimator-doc-link {\n",
       "  float: right;\n",
       "  font-size: smaller;\n",
       "  line-height: 1em;\n",
       "  font-family: monospace;\n",
       "  background-color: var(--sklearn-color-background);\n",
       "  border-radius: 1em;\n",
       "  height: 1em;\n",
       "  width: 1em;\n",
       "  text-decoration: none !important;\n",
       "  margin-left: 0.5em;\n",
       "  text-align: center;\n",
       "  /* unfitted */\n",
       "  border: var(--sklearn-color-unfitted-level-1) 1pt solid;\n",
       "  color: var(--sklearn-color-unfitted-level-1);\n",
       "}\n",
       "\n",
       ".sk-estimator-doc-link.fitted,\n",
       "a:link.sk-estimator-doc-link.fitted,\n",
       "a:visited.sk-estimator-doc-link.fitted {\n",
       "  /* fitted */\n",
       "  border: var(--sklearn-color-fitted-level-1) 1pt solid;\n",
       "  color: var(--sklearn-color-fitted-level-1);\n",
       "}\n",
       "\n",
       "/* On hover */\n",
       "div.sk-estimator:hover .sk-estimator-doc-link:hover,\n",
       ".sk-estimator-doc-link:hover,\n",
       "div.sk-label-container:hover .sk-estimator-doc-link:hover,\n",
       ".sk-estimator-doc-link:hover {\n",
       "  /* unfitted */\n",
       "  background-color: var(--sklearn-color-unfitted-level-3);\n",
       "  color: var(--sklearn-color-background);\n",
       "  text-decoration: none;\n",
       "}\n",
       "\n",
       "div.sk-estimator.fitted:hover .sk-estimator-doc-link.fitted:hover,\n",
       ".sk-estimator-doc-link.fitted:hover,\n",
       "div.sk-label-container:hover .sk-estimator-doc-link.fitted:hover,\n",
       ".sk-estimator-doc-link.fitted:hover {\n",
       "  /* fitted */\n",
       "  background-color: var(--sklearn-color-fitted-level-3);\n",
       "  color: var(--sklearn-color-background);\n",
       "  text-decoration: none;\n",
       "}\n",
       "\n",
       "/* Span, style for the box shown on hovering the info icon */\n",
       ".sk-estimator-doc-link span {\n",
       "  display: none;\n",
       "  z-index: 9999;\n",
       "  position: relative;\n",
       "  font-weight: normal;\n",
       "  right: .2ex;\n",
       "  padding: .5ex;\n",
       "  margin: .5ex;\n",
       "  width: min-content;\n",
       "  min-width: 20ex;\n",
       "  max-width: 50ex;\n",
       "  color: var(--sklearn-color-text);\n",
       "  box-shadow: 2pt 2pt 4pt #999;\n",
       "  /* unfitted */\n",
       "  background: var(--sklearn-color-unfitted-level-0);\n",
       "  border: .5pt solid var(--sklearn-color-unfitted-level-3);\n",
       "}\n",
       "\n",
       ".sk-estimator-doc-link.fitted span {\n",
       "  /* fitted */\n",
       "  background: var(--sklearn-color-fitted-level-0);\n",
       "  border: var(--sklearn-color-fitted-level-3);\n",
       "}\n",
       "\n",
       ".sk-estimator-doc-link:hover span {\n",
       "  display: block;\n",
       "}\n",
       "\n",
       "/* \"?\"-specific style due to the `<a>` HTML tag */\n",
       "\n",
       "#sk-container-id-2 a.estimator_doc_link {\n",
       "  float: right;\n",
       "  font-size: 1rem;\n",
       "  line-height: 1em;\n",
       "  font-family: monospace;\n",
       "  background-color: var(--sklearn-color-background);\n",
       "  border-radius: 1rem;\n",
       "  height: 1rem;\n",
       "  width: 1rem;\n",
       "  text-decoration: none;\n",
       "  /* unfitted */\n",
       "  color: var(--sklearn-color-unfitted-level-1);\n",
       "  border: var(--sklearn-color-unfitted-level-1) 1pt solid;\n",
       "}\n",
       "\n",
       "#sk-container-id-2 a.estimator_doc_link.fitted {\n",
       "  /* fitted */\n",
       "  border: var(--sklearn-color-fitted-level-1) 1pt solid;\n",
       "  color: var(--sklearn-color-fitted-level-1);\n",
       "}\n",
       "\n",
       "/* On hover */\n",
       "#sk-container-id-2 a.estimator_doc_link:hover {\n",
       "  /* unfitted */\n",
       "  background-color: var(--sklearn-color-unfitted-level-3);\n",
       "  color: var(--sklearn-color-background);\n",
       "  text-decoration: none;\n",
       "}\n",
       "\n",
       "#sk-container-id-2 a.estimator_doc_link.fitted:hover {\n",
       "  /* fitted */\n",
       "  background-color: var(--sklearn-color-fitted-level-3);\n",
       "}\n",
       "</style><div id=\"sk-container-id-2\" class=\"sk-top-container\"><div class=\"sk-text-repr-fallback\"><pre>XGBRegressor(base_score=None, booster=None, callbacks=None,\n",
       "             colsample_bylevel=None, colsample_bynode=None,\n",
       "             colsample_bytree=None, device=None, early_stopping_rounds=10,\n",
       "             enable_categorical=False, eval_metric=&#x27;mae&#x27;, feature_types=None,\n",
       "             gamma=None, grow_policy=None, importance_type=None,\n",
       "             interaction_constraints=None, learning_rate=0.1, max_bin=None,\n",
       "             max_cat_threshold=None, max_cat_to_onehot=None,\n",
       "             max_delta_step=None, max_depth=2, max_leaves=None,\n",
       "             min_child_weight=None, missing=nan, monotone_constraints=None,\n",
       "             multi_strategy=None, n_estimators=100, n_jobs=None,\n",
       "             num_parallel_tree=None, random_state=None, ...)</pre><b>In a Jupyter environment, please rerun this cell to show the HTML representation or trust the notebook. <br />On GitHub, the HTML representation is unable to render, please try loading this page with nbviewer.org.</b></div><div class=\"sk-container\" hidden><div class=\"sk-item\"><div class=\"sk-estimator fitted sk-toggleable\"><input class=\"sk-toggleable__control sk-hidden--visually\" id=\"sk-estimator-id-2\" type=\"checkbox\" checked><label for=\"sk-estimator-id-2\" class=\"sk-toggleable__label fitted sk-toggleable__label-arrow\"><div><div>XGBRegressor</div></div><div><span class=\"sk-estimator-doc-link fitted\">i<span>Fitted</span></span></div></label><div class=\"sk-toggleable__content fitted\"><pre>XGBRegressor(base_score=None, booster=None, callbacks=None,\n",
       "             colsample_bylevel=None, colsample_bynode=None,\n",
       "             colsample_bytree=None, device=None, early_stopping_rounds=10,\n",
       "             enable_categorical=False, eval_metric=&#x27;mae&#x27;, feature_types=None,\n",
       "             gamma=None, grow_policy=None, importance_type=None,\n",
       "             interaction_constraints=None, learning_rate=0.1, max_bin=None,\n",
       "             max_cat_threshold=None, max_cat_to_onehot=None,\n",
       "             max_delta_step=None, max_depth=2, max_leaves=None,\n",
       "             min_child_weight=None, missing=nan, monotone_constraints=None,\n",
       "             multi_strategy=None, n_estimators=100, n_jobs=None,\n",
       "             num_parallel_tree=None, random_state=None, ...)</pre></div> </div></div></div></div>"
      ],
      "text/plain": [
       "XGBRegressor(base_score=None, booster=None, callbacks=None,\n",
       "             colsample_bylevel=None, colsample_bynode=None,\n",
       "             colsample_bytree=None, device=None, early_stopping_rounds=10,\n",
       "             enable_categorical=False, eval_metric='mae', feature_types=None,\n",
       "             gamma=None, grow_policy=None, importance_type=None,\n",
       "             interaction_constraints=None, learning_rate=0.1, max_bin=None,\n",
       "             max_cat_threshold=None, max_cat_to_onehot=None,\n",
       "             max_delta_step=None, max_depth=2, max_leaves=None,\n",
       "             min_child_weight=None, missing=nan, monotone_constraints=None,\n",
       "             multi_strategy=None, n_estimators=100, n_jobs=None,\n",
       "             num_parallel_tree=None, random_state=None, ...)"
      ]
     },
     "execution_count": 51,
     "metadata": {},
     "output_type": "execute_result"
    }
   ],
   "source": [
    "xgb_regressor_object = XGBRegressor(\n",
    "    n_estimators=100, \n",
    "    max_depth=2, \n",
    "    learning_rate=0.1, \n",
    "    eval_metric = 'mae',\n",
    "    early_stopping_rounds = 10\n",
    ")\n",
    "xgb_regressor_object.fit(\n",
    "    df_x_train, \n",
    "    df_y_train, \n",
    "    eval_set=[(df_x_train, df_y_train), (df_x_test, df_y_test)], \n",
    "    verbose=True,\n",
    ")"
   ]
  },
  {
   "cell_type": "markdown",
   "id": "81e53ff6a4971e6e",
   "metadata": {},
   "source": [
    "Check the feature importance. If the first lag does not have the highest importance, this would be a red flag for a potential bug."
   ]
  },
  {
   "cell_type": "code",
   "execution_count": 52,
   "id": "d902b709da40633c",
   "metadata": {
    "ExecuteTime": {
     "end_time": "2024-07-01T07:25:24.879124Z",
     "start_time": "2024-07-01T07:25:24.870304Z"
    }
   },
   "outputs": [
    {
     "data": {
      "text/plain": [
       "{'bmm_lag_1': 137.0, 'bmm_lag_2': 12.0, 'bmm_lag_3': 31.0}"
      ]
     },
     "execution_count": 52,
     "metadata": {},
     "output_type": "execute_result"
    }
   ],
   "source": [
    "xgb_regressor_object.get_booster().get_score(importance_type=\"weight\")"
   ]
  },
  {
   "cell_type": "markdown",
   "id": "7a55a20fa3913f37",
   "metadata": {},
   "source": [
    "Finally, lets plot the residuals."
   ]
  },
  {
   "cell_type": "code",
   "execution_count": 53,
   "id": "32e5507df59eaee7",
   "metadata": {
    "ExecuteTime": {
     "end_time": "2024-07-01T07:27:22.288718Z",
     "start_time": "2024-07-01T07:27:22.269450Z"
    }
   },
   "outputs": [],
   "source": [
    "np_predictions = xgb_regressor_object.predict(df_x_test)"
   ]
  },
  {
   "cell_type": "code",
   "execution_count": 54,
   "id": "6e77cf679c5ae8af",
   "metadata": {
    "ExecuteTime": {
     "end_time": "2024-07-01T07:27:27.031281Z",
     "start_time": "2024-07-01T07:27:27.027651Z"
    }
   },
   "outputs": [],
   "source": [
    "np_residuals = np_predictions - df_y_test[\"Brouwer mean motion\"].to_numpy()"
   ]
  },
  {
   "cell_type": "code",
   "execution_count": 55,
   "id": "f3ca20565bd28c13",
   "metadata": {
    "ExecuteTime": {
     "end_time": "2024-07-01T07:27:37.856216Z",
     "start_time": "2024-07-01T07:27:37.850948Z"
    }
   },
   "outputs": [],
   "source": [
    "df_y_plotting = df_y_test.copy()\n",
    "df_y_plotting[\"residuals\"] = np_residuals"
   ]
  },
  {
   "cell_type": "code",
   "execution_count": 56,
   "id": "8272786ab3d446f8",
   "metadata": {
    "ExecuteTime": {
     "end_time": "2024-07-01T07:27:39.112995Z",
     "start_time": "2024-07-01T07:27:38.836506Z"
    }
   },
   "outputs": [
    {
     "data": {
      "text/plain": [
       "<Axes: xlabel='None', ylabel='residuals'>"
      ]
     },
     "execution_count": 56,
     "metadata": {},
     "output_type": "execute_result"
    },
    {
     "data": {
      "image/png": "[encoded data removed]",
      "text/plain": [
       "<Figure size 640x480 with 1 Axes>"
      ]
     },
     "metadata": {},
     "output_type": "display_data"
    }
   ],
   "source": [
    "sns.lineplot(df_y_plotting, x = df_y_test.index, y = \"residuals\")"
   ]
  },
  {
   "cell_type": "code",
   "execution_count": null,
   "id": "2793cefcbe9a6e64",
   "metadata": {
    "ExecuteTime": {
     "end_time": "2024-07-01T06:22:29.432864Z",
     "start_time": "2024-07-01T06:22:29.430363Z"
    }
   },
   "outputs": [],
   "source": []
  }
 ],
 "metadata": {
  "kernelspec": {
   "display_name": "Python 3 (ipykernel)",
   "language": "python",
   "name": "python3"
  },
  "language_info": {
   "codemirror_mode": {
    "name": "ipython",
    "version": 3
   },
   "file_extension": ".py",
   "mimetype": "text/x-python",
   "name": "python",
   "nbconvert_exporter": "python",
   "pygments_lexer": "ipython3",
   "version": "3.9.0"
  }
 },
 "nbformat": 4,
 "nbformat_minor": 5
}
